{
 "cells": [
  {
   "cell_type": "markdown",
   "id": "6c619868-6ca9-43da-8832-38a278a57638",
   "metadata": {},
   "source": [
    "# venv\n",
    "* a tool to create a \"virtual environment\" for Python\n",
    "  * isolated environments for each of your Python projects\n",
    "  * isolation helps manage dependencies cleanly and avoid conflicts between packages across different projects\n",
    "  * (you may also have different versions of Python across projects)\n",
    "  * official docs: https://docs.python.org/3/library/venv.html"
   ]
  },
  {
   "cell_type": "markdown",
   "id": "7152814c-3a0a-4c08-9c0c-a8964ae1554f",
   "metadata": {},
   "source": [
    "## let's create some virtual environments\n",
    "* create one or more virtual environments\n",
    "  * __`python3 -mvenv new-env`__\n",
    "  * __`python3.10 -mvenv old-env`__ (if you have another version of Python installed, otherwise leave off the __`3.10`__)\n",
    "* \"activate\"\n",
    "  * __`source <venv>/bin/activate`__ (for Mac/Linux and zsh/bash)\n",
    "  * __`C:\\> <venv>\\Scripts\\activate.bat`__ (for Windows cmd prompt)\n",
    "  * __`PS C:\\> <venv>\\Scripts\\Activate.ps1`__ (for Windows PowerShell)\n",
    "* \"deactivate\"\n",
    "  * type __`deactivate`__ at prompt (or activate a different venv)\n",
    "* you can also work from within Visual Studio Code\n",
    "  * open the Command Palette\n",
    "    * __Mac__ Cmd + Shift + P\n",
    "    * __Windows__ Ctrl + Shift + P on Windows)\n",
    "  * type “Python: Select Interpreter”"
   ]
  }
 ],
 "metadata": {
  "kernelspec": {
   "display_name": "Python 3 (ipykernel)",
   "language": "python",
   "name": "python3"
  },
  "language_info": {
   "codemirror_mode": {
    "name": "ipython",
    "version": 3
   },
   "file_extension": ".py",
   "mimetype": "text/x-python",
   "name": "python",
   "nbconvert_exporter": "python",
   "pygments_lexer": "ipython3",
   "version": "3.13.1"
  }
 },
 "nbformat": 4,
 "nbformat_minor": 5
}
