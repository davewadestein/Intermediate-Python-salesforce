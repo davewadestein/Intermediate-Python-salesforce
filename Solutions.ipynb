{
 "cells": [
  {
   "cell_type": "markdown",
   "id": "7ca49a17",
   "metadata": {},
   "source": [
    "## Lab: List Comprehensions\n",
    "*  Start with Cartesian product example (colors x sizes of t-shirts) and a\n",
    "*  add a third list, __`sleeves = ['short', 'long']`__ then write a new listcomp which generates the Cartesian product __`colors x sizes x sleeves`__. __`tshirts`__ should look like this:<pre><b>\n",
    "    [['black', 'S', 'short'],\n",
    "     ['black', 'S', 'long'],\n",
    "     ['black', 'M', 'short'],\n",
    "     ['black', 'M', 'long'],\n",
    "     ['black', 'L', 'short'],\n",
    "     ['black', 'L', 'long'],\n",
    "     ['white', 'S', 'short'],\n",
    "     ['white', 'S', 'long'],\n",
    "     ['white', 'M', 'short'],\n",
    "     ['white', 'M', 'long'],\n",
    "     ['white', 'L', 'short'],\n",
    "     ['white', 'L', 'long']]\n",
    "     \n",
    " </b></pre>\n"
   ]
  },
  {
   "cell_type": "code",
   "execution_count": 1,
   "id": "33e3007d",
   "metadata": {},
   "outputs": [],
   "source": [
    "colors = ['black', 'white']\n",
    "sizes = ['S', 'M', 'L', 'XL']\n",
    "sleeves = 'short long'.split()"
   ]
  },
  {
   "cell_type": "code",
   "execution_count": null,
   "id": "c5574f3f",
   "metadata": {},
   "outputs": [
    {
     "ename": "NameError",
     "evalue": "name 'size' is not defined",
     "output_type": "error",
     "traceback": [
      "\u001b[0;31m---------------------------------------------------------------------------\u001b[0m",
      "\u001b[0;31mNameError\u001b[0m                                 Traceback (most recent call last)",
      "Cell \u001b[0;32mIn[10], line 1\u001b[0m\n\u001b[0;32m----> 1\u001b[0m tshirts \u001b[38;5;241m=\u001b[39m [[color, \u001b[43msize\u001b[49m, sleeve] \u001b[38;5;28;01mfor\u001b[39;00m sizes \u001b[38;5;129;01min\u001b[39;00m sizes\n\u001b[1;32m      2\u001b[0m                                      \u001b[38;5;28;01mfor\u001b[39;00m color \u001b[38;5;129;01min\u001b[39;00m colors\n\u001b[1;32m      3\u001b[0m                                          \u001b[38;5;28;01mfor\u001b[39;00m sleeve \u001b[38;5;129;01min\u001b[39;00m sleeves]\n\u001b[1;32m      4\u001b[0m tshirts\n",
      "\u001b[0;31mNameError\u001b[0m: name 'size' is not defined"
     ]
    }
   ],
   "source": [
    "tshirts = [[color, size, sleeve] for size in sizes\n",
    "                                     for color in colors\n",
    "                                         for sleeve in sleeves]\n",
    "tshirts"
   ]
  },
  {
   "cell_type": "markdown",
   "id": "7a8e40ce",
   "metadata": {},
   "source": [
    "## What did we learn today?\n",
    "* some Git\n",
    "* venv\n",
    "* list comprehensions\n",
    "* how annoying it can be to set up SSH keys and some other required setup"
   ]
  },
  {
   "cell_type": "markdown",
   "id": "9bf4b2f8",
   "metadata": {},
   "source": []
  },
  {
   "cell_type": "markdown",
   "id": "5b7cf8dc",
   "metadata": {},
   "source": [
    "* Use a list comprehension to create a list of the squares of the integers from 1 to 25 (i.e, 1, 4, 9, 16, …, 625)\n"
   ]
  },
  {
   "cell_type": "code",
   "execution_count": 16,
   "id": "a0791469",
   "metadata": {},
   "outputs": [
    {
     "name": "stdout",
     "output_type": "stream",
     "text": [
      "[1.0, 2.8284271247461903, 5.196152422706632, 8.0, 11.180339887498949, 14.696938456699069, 18.520259177452136, 22.627416997969522, 27.0, 31.622776601683793, 36.4828726939094, 41.569219381653056, 46.87216658103186, 52.38320341483518, 58.09475019311125, 64.0, 70.09279563550022, 76.36753236814714, 82.8190799272728, 89.44271909999159, 96.23408959407264, 103.18914671611545, 110.30412503619254, 117.57550765359255, 125.0]\n"
     ]
    }
   ],
   "source": [
    "import math\n",
    "squares = [math.sqrt(num ** 3) for num in range(1, 26)] # or num ** 2\n",
    "print(squares)"
   ]
  },
  {
   "cell_type": "markdown",
   "id": "6e75ab1b",
   "metadata": {},
   "source": [
    "* Given a list of words, create a second list which contains all the words from the first list which do not end with a vowel\n"
   ]
  },
  {
   "cell_type": "code",
   "execution_count": 26,
   "id": "1f64db1c",
   "metadata": {},
   "outputs": [
    {
     "data": {
      "text/plain": [
       "['gif', 'raep', 'klim']"
      ]
     },
     "execution_count": 26,
     "metadata": {},
     "output_type": "execute_result"
    }
   ],
   "source": [
    "words = 'apple fig pear banana milk tomato'.split()\n",
    "no_end_in_vowel_words = [word[::-1] for word in words\n",
    "                                if word[-1] not in 'aeiou'] # filter\n",
    "no_end_in_vowel_words"
   ]
  },
  {
   "cell_type": "code",
   "execution_count": 25,
   "id": "695b15e0",
   "metadata": {},
   "outputs": [
    {
     "data": {
      "text/plain": [
       "'ecrofselas'"
      ]
     },
     "execution_count": 25,
     "metadata": {},
     "output_type": "execute_result"
    }
   ],
   "source": [
    "'salesforce'[::-1]"
   ]
  },
  {
   "cell_type": "markdown",
   "id": "b24b4d7a",
   "metadata": {},
   "source": [
    "* Use a list comprehension to create a list of the integers from 1 to 100 which are not divisible by 5\n"
   ]
  },
  {
   "cell_type": "code",
   "execution_count": null,
   "id": "6e420982",
   "metadata": {},
   "outputs": [
    {
     "name": "stdout",
     "output_type": "stream",
     "text": [
      "[1, 2, 3, 4, 6, 7, 8, 9, 11, 12, 13, 14, 16, 17, 18, 19, 21, 22, 23, 24, 26, 27, 28, 29, 31, 32, 33, 34, 36, 37, 38, 39, 41, 42, 43, 44, 46, 47, 48, 49, 51, 52, 53, 54, 56, 57, 58, 59, 61, 62, 63, 64, 66, 67, 68, 69, 71, 72, 73, 74, 76, 77, 78, 79, 81, 82, 83, 84, 86, 87, 88, 89, 91, 92, 93, 94, 96, 97, 98, 99]\n"
     ]
    }
   ],
   "source": [
    "no_divis_by_5 = [num for num in range(1, 101) if num % 5] # filter\n",
    "print(no_divis_by_5)"
   ]
  },
  {
   "cell_type": "markdown",
   "id": "4fcd22f8",
   "metadata": {},
   "source": [
    "## \"Truthiness\"\n",
    "* in a Boolean context...\n",
    "* 0 and 0.0 are considered False; all other numbers are considered True\n",
    "* empty containers are considered False; non-empty containers are considered True"
   ]
  },
  {
   "cell_type": "code",
   "execution_count": 34,
   "id": "dc08a5ec",
   "metadata": {},
   "outputs": [],
   "source": [
    "number = 0.01"
   ]
  },
  {
   "cell_type": "code",
   "execution_count": 35,
   "id": "3619ec2c",
   "metadata": {},
   "outputs": [
    {
     "name": "stdout",
     "output_type": "stream",
     "text": [
      "yep\n"
     ]
    }
   ],
   "source": [
    "if number: # \"is this number non-zero\"\n",
    "    print('yep')"
   ]
  },
  {
   "cell_type": "code",
   "execution_count": 44,
   "id": "85fbb837",
   "metadata": {},
   "outputs": [
    {
     "data": {
      "text/plain": [
       "0"
      ]
     },
     "execution_count": 44,
     "metadata": {},
     "output_type": "execute_result"
    }
   ],
   "source": [
    "container = ''\n",
    "len(container)"
   ]
  },
  {
   "cell_type": "code",
   "execution_count": 43,
   "id": "e76abd9b",
   "metadata": {},
   "outputs": [],
   "source": [
    "if container: # is container non-empty?\n",
    "    print('yep!')"
   ]
  },
  {
   "cell_type": "markdown",
   "id": "0b312854",
   "metadata": {},
   "source": [
    "* Use a list comprehension and __`zip()`__ to create a list of lists, where the list items are name and ID number that you grabbed from separate lists of names and ID numbers\n",
    "  * start with a list of, say, 5 names ['John', 'Mary', 'Edward', 'Linda', 'Dinesh']\n",
    "  * and a list of, say, 5 ID numbers [1003, 2043, 8762, 7862, 1093]\n",
    "  * additional wrinkle: do not include any names whose corresponding ID is -1\n",
    "  "
   ]
  },
  {
   "cell_type": "code",
   "execution_count": 46,
   "id": "f7c9ab72",
   "metadata": {},
   "outputs": [
    {
     "data": {
      "text/plain": [
       "[['John', 1003],\n",
       " ['Mary', 2043],\n",
       " ['Edward', 8762],\n",
       " ['Linda', 7862],\n",
       " ['Dinesh', 1093]]"
      ]
     },
     "execution_count": 46,
     "metadata": {},
     "output_type": "execute_result"
    }
   ],
   "source": [
    "names = ['John', 'Mary', 'Edward', 'Linda', 'Dinesh']\n",
    "ids = [1003, 2043, 8762, 7862, 1093]\n",
    "\n",
    "employees = [[name, id] for name, id in zip(names, ids)]\n",
    "employees"
   ]
  },
  {
   "cell_type": "code",
   "execution_count": 47,
   "id": "f5699a6b",
   "metadata": {},
   "outputs": [
    {
     "data": {
      "text/plain": [
       "[['John', 1003], ['Mary', 2043], ['Linda', 7862]]"
      ]
     },
     "execution_count": 47,
     "metadata": {},
     "output_type": "execute_result"
    }
   ],
   "source": [
    "names = ['John', 'Mary', 'Edward', 'Linda', 'Dinesh']\n",
    "ids = [1003, 2043, -1, 7862, -1]\n",
    "\n",
    "employees = [[name, id] for name, id in zip(names, ids)\n",
    "                            if id != -1]\n",
    "employees"
   ]
  },
  {
   "cell_type": "code",
   "execution_count": 53,
   "id": "a8bb9165",
   "metadata": {},
   "outputs": [],
   "source": [
    "x = 3\n",
    "y = 4"
   ]
  },
  {
   "cell_type": "code",
   "execution_count": 56,
   "id": "fa6c381e",
   "metadata": {},
   "outputs": [
    {
     "name": "stdout",
     "output_type": "stream",
     "text": [
      "4 3\n"
     ]
    }
   ],
   "source": [
    "x, y = y, x\n",
    "print(x, y)"
   ]
  },
  {
   "cell_type": "code",
   "execution_count": 50,
   "id": "c77cc5dc",
   "metadata": {},
   "outputs": [
    {
     "name": "stdout",
     "output_type": "stream",
     "text": [
      "4 3\n"
     ]
    }
   ],
   "source": [
    "temp = x\n",
    "x = y\n",
    "y = temp\n",
    "print(x, y)"
   ]
  },
  {
   "cell_type": "code",
   "execution_count": 57,
   "id": "13274403",
   "metadata": {},
   "outputs": [],
   "source": [
    "t = 'Benioff', 'Marc', 'CEO', 1997"
   ]
  },
  {
   "cell_type": "code",
   "execution_count": 58,
   "id": "71725982",
   "metadata": {},
   "outputs": [],
   "source": [
    "last, first, *rest = t"
   ]
  },
  {
   "cell_type": "markdown",
   "id": "9e664cc6",
   "metadata": {},
   "source": []
  },
  {
   "cell_type": "code",
   "execution_count": 59,
   "id": "75f08846",
   "metadata": {},
   "outputs": [
    {
     "data": {
      "text/plain": [
       "('Benioff', 'Marc')"
      ]
     },
     "execution_count": 59,
     "metadata": {},
     "output_type": "execute_result"
    }
   ],
   "source": [
    "last, first"
   ]
  },
  {
   "cell_type": "code",
   "execution_count": 60,
   "id": "4d6f3281",
   "metadata": {},
   "outputs": [
    {
     "data": {
      "text/plain": [
       "['CEO', 1997]"
      ]
     },
     "execution_count": 60,
     "metadata": {},
     "output_type": "execute_result"
    }
   ],
   "source": [
    "rest"
   ]
  },
  {
   "cell_type": "code",
   "execution_count": null,
   "id": "4e603145",
   "metadata": {},
   "outputs": [],
   "source": [
    "last, first, *_ = t"
   ]
  },
  {
   "cell_type": "code",
   "execution_count": null,
   "id": "b77fa847",
   "metadata": {},
   "outputs": [
    {
     "name": "stdout",
     "output_type": "stream",
     "text": [
      "did we do this?\n",
      "did we do this?\n",
      "did we do this?\n",
      "did we do this?\n",
      "did we do this?\n"
     ]
    }
   ],
   "source": [
    "for _ in range(5): # _ signals the reader that we don't need this value\n",
    "                   # _ says this loop is \"repeat the action 5 times\"\n",
    "    print('did we do this?')"
   ]
  },
  {
   "cell_type": "code",
   "execution_count": 68,
   "id": "0ef3a8d5",
   "metadata": {},
   "outputs": [
    {
     "name": "stdout",
     "output_type": "stream",
     "text": [
      "10\n",
      "9\n",
      "8\n",
      "7\n",
      "6\n",
      "5\n",
      "4\n",
      "3\n",
      "2\n",
      "1\n",
      "blast off\n"
     ]
    }
   ],
   "source": [
    "for count in range(10, 0, -1):\n",
    "    print(count)\n",
    "print('blast off')\n",
    "    "
   ]
  },
  {
   "cell_type": "code",
   "execution_count": 69,
   "id": "3301fbb9",
   "metadata": {},
   "outputs": [],
   "source": [
    "t = 'Benioff', 'Marc', 'CEO', 1997"
   ]
  },
  {
   "cell_type": "code",
   "execution_count": 71,
   "id": "bfb968ec",
   "metadata": {},
   "outputs": [],
   "source": [
    "last, first, _, year = t # should make clear to the reader that the third field of the tuple isn't interesting"
   ]
  },
  {
   "cell_type": "code",
   "execution_count": 72,
   "id": "8ab3ddf9",
   "metadata": {},
   "outputs": [
    {
     "name": "stdout",
     "output_type": "stream",
     "text": [
      "TWO roads diverged in a yellow wood,\t\n",
      "And sorry I could not travel both\t\n",
      "And be one traveler, long I stood\t\n",
      "And looked down one as far as I could\t\n",
      "To where it bent in the undergrowth;\n",
      " \n",
      "Then took the other, as just as fair,\t\n",
      "And having perhaps the better claim,\t\n",
      "Because it was grassy and wanted wear;\t\n",
      "Though as for that the passing there\t\n",
      "Had worn them really about the same,\n",
      " \n",
      "And both that morning equally lay\t\n",
      "In leaves no step had trodden black.\t\n",
      "Oh, I kept the first for another day!\t\n",
      "Yet knowing how way leads on to way,\t\n",
      "I doubted if I should ever come back.\n",
      " \n",
      "I shall be telling this with a sigh\t\n",
      "Somewhere ages and ages hence:\t\n",
      "Two roads diverged in a wood, and I—\t\n",
      "I took the one less traveled by,\t\n",
      "And that has made all the difference.\n"
     ]
    }
   ],
   "source": [
    "%cat poem.txt"
   ]
  },
  {
   "cell_type": "code",
   "execution_count": 81,
   "id": "6f5aa336",
   "metadata": {},
   "outputs": [],
   "source": [
    "f = open('poem.txt') # 'r' is the default"
   ]
  },
  {
   "cell_type": "code",
   "execution_count": null,
   "id": "d17f16c4",
   "metadata": {},
   "outputs": [
    {
     "name": "stdout",
     "output_type": "stream",
     "text": [
      "TWO roads diverged in a yellow wood,\t\n",
      "And be one traveler, long I stood\t\n",
      "To where it bent in the undergrowth;\n",
      "Then took the other, as just as fair,\t\n",
      "Because it was grassy and wanted wear;\t\n",
      "Had worn them really about the same,\n",
      "And both that morning equally lay\t\n",
      "Oh, I kept the first for another day!\t\n",
      "I doubted if I should ever come back.\n",
      "I shall be telling this with a sigh\t\n",
      "Two roads diverged in a wood, and I—\t\n",
      "And that has made all the difference.\n"
     ]
    }
   ],
   "source": [
    "line_no = 1\n",
    "for each_line in f: # Python lets us iterate through files\n",
    "    if line_no % 2 == 1: # odd\n",
    "        print(each_line, end='') # don't print \\n after each line\n",
    "    line_no += 1\n",
    "\n",
    "# ...\n",
    "# ...\n",
    "f.close()"
   ]
  },
  {
   "cell_type": "code",
   "execution_count": 83,
   "id": "293a5be5",
   "metadata": {},
   "outputs": [],
   "source": [
    "f.close()"
   ]
  },
  {
   "cell_type": "code",
   "execution_count": null,
   "id": "3d3e38df",
   "metadata": {},
   "outputs": [
    {
     "name": "stdout",
     "output_type": "stream",
     "text": [
      "TWO roads diverged in a yellow wood,\t\n",
      "And sorry I could not travel both\t\n",
      "And be one traveler, long I stood\t\n",
      "And looked down one as far as I could\t\n",
      "To where it bent in the undergrowth;\n",
      " \n",
      "Then took the other, as just as fair,\t\n",
      "And having perhaps the better claim,\t\n",
      "Because it was grassy and wanted wear;\t\n",
      "Though as for that the passing there\t\n",
      "Had worn them really about the same,\n",
      " \n",
      "And both that morning equally lay\t\n",
      "In leaves no step had trodden black.\t\n",
      "Oh, I kept the first for another day!\t\n",
      "Yet knowing how way leads on to way,\t\n",
      "I doubted if I should ever come back.\n",
      " \n",
      "I shall be telling this with a sigh\t\n",
      "Somewhere ages and ages hence:\t\n",
      "Two roads diverged in a wood, and I—\t\n",
      "I took the one less traveled by,\t\n",
      "And that has made all the difference.\n",
      "in with block, f.closed = False\n",
      "after with block, f.closed = True\n"
     ]
    }
   ],
   "source": [
    "with open('poem.txt') as f:\n",
    "    # processing of the file...\n",
    "    for each_line in f: # Python lets us iterate through files\n",
    "        print(each_line, end='')\n",
    "    print('in with block, f.closed =', f.closed)\n",
    "    # don't put stuff in here that is not related/processing the file\n",
    "\n",
    "# the file f was automagically closed by Python when leaving the with block\n",
    "print('after with block, f.closed =', f.closed)    "
   ]
  },
  {
   "cell_type": "code",
   "execution_count": null,
   "id": "e0931044",
   "metadata": {},
   "outputs": [],
   "source": []
  }
 ],
 "metadata": {
  "kernelspec": {
   "display_name": "Python 3",
   "language": "python",
   "name": "python3"
  },
  "language_info": {
   "codemirror_mode": {
    "name": "ipython",
    "version": 3
   },
   "file_extension": ".py",
   "mimetype": "text/x-python",
   "name": "python",
   "nbconvert_exporter": "python",
   "pygments_lexer": "ipython3",
   "version": "3.13.1"
  }
 },
 "nbformat": 4,
 "nbformat_minor": 5
}
