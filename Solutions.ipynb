{
 "cells": [
  {
   "cell_type": "markdown",
   "id": "7ca49a17",
   "metadata": {},
   "source": [
    "## Lab: List Comprehensions\n",
    "*  Start with Cartesian product example (colors x sizes of t-shirts) and a\n",
    "*  add a third list, __`sleeves = ['short', 'long']`__ then write a new listcomp which generates the Cartesian product __`colors x sizes x sleeves`__. __`tshirts`__ should look like this:<pre><b>\n",
    "    [['black', 'S', 'short'],\n",
    "     ['black', 'S', 'long'],\n",
    "     ['black', 'M', 'short'],\n",
    "     ['black', 'M', 'long'],\n",
    "     ['black', 'L', 'short'],\n",
    "     ['black', 'L', 'long'],\n",
    "     ['white', 'S', 'short'],\n",
    "     ['white', 'S', 'long'],\n",
    "     ['white', 'M', 'short'],\n",
    "     ['white', 'M', 'long'],\n",
    "     ['white', 'L', 'short'],\n",
    "     ['white', 'L', 'long']]\n",
    "     \n",
    " </b></pre>\n"
   ]
  },
  {
   "cell_type": "code",
   "execution_count": 1,
   "id": "33e3007d",
   "metadata": {},
   "outputs": [],
   "source": [
    "colors = ['black', 'white']\n",
    "sizes = ['S', 'M', 'L', 'XL']\n",
    "sleeves = 'short long'.split()"
   ]
  },
  {
   "cell_type": "code",
   "execution_count": null,
   "id": "c5574f3f",
   "metadata": {},
   "outputs": [
    {
     "ename": "NameError",
     "evalue": "name 'size' is not defined",
     "output_type": "error",
     "traceback": [
      "\u001b[0;31m---------------------------------------------------------------------------\u001b[0m",
      "\u001b[0;31mNameError\u001b[0m                                 Traceback (most recent call last)",
      "Cell \u001b[0;32mIn[10], line 1\u001b[0m\n\u001b[0;32m----> 1\u001b[0m tshirts \u001b[38;5;241m=\u001b[39m [[color, \u001b[43msize\u001b[49m, sleeve] \u001b[38;5;28;01mfor\u001b[39;00m sizes \u001b[38;5;129;01min\u001b[39;00m sizes\n\u001b[1;32m      2\u001b[0m                                      \u001b[38;5;28;01mfor\u001b[39;00m color \u001b[38;5;129;01min\u001b[39;00m colors\n\u001b[1;32m      3\u001b[0m                                          \u001b[38;5;28;01mfor\u001b[39;00m sleeve \u001b[38;5;129;01min\u001b[39;00m sleeves]\n\u001b[1;32m      4\u001b[0m tshirts\n",
      "\u001b[0;31mNameError\u001b[0m: name 'size' is not defined"
     ]
    }
   ],
   "source": [
    "tshirts = [[color, size, sleeve] for size in sizes\n",
    "                                     for color in colors\n",
    "                                         for sleeve in sleeves]\n",
    "tshirts"
   ]
  },
  {
   "cell_type": "markdown",
   "id": "7a8e40ce",
   "metadata": {},
   "source": [
    "## What did we learn today?\n",
    "* some Git\n",
    "* venv\n",
    "* list comprehensions\n",
    "* how annoying it can be to set up SSH keys and some other required setup"
   ]
  },
  {
   "cell_type": "markdown",
   "id": "9bf4b2f8",
   "metadata": {},
   "source": []
  },
  {
   "cell_type": "markdown",
   "id": "5b7cf8dc",
   "metadata": {},
   "source": [
    "* Use a list comprehension to create a list of the squares of the integers from 1 to 25 (i.e, 1, 4, 9, 16, …, 625)\n"
   ]
  },
  {
   "cell_type": "code",
   "execution_count": 16,
   "id": "a0791469",
   "metadata": {},
   "outputs": [
    {
     "name": "stdout",
     "output_type": "stream",
     "text": [
      "[1.0, 2.8284271247461903, 5.196152422706632, 8.0, 11.180339887498949, 14.696938456699069, 18.520259177452136, 22.627416997969522, 27.0, 31.622776601683793, 36.4828726939094, 41.569219381653056, 46.87216658103186, 52.38320341483518, 58.09475019311125, 64.0, 70.09279563550022, 76.36753236814714, 82.8190799272728, 89.44271909999159, 96.23408959407264, 103.18914671611545, 110.30412503619254, 117.57550765359255, 125.0]\n"
     ]
    }
   ],
   "source": [
    "import math\n",
    "squares = [math.sqrt(num ** 3) for num in range(1, 26)] # or num ** 2\n",
    "print(squares)"
   ]
  },
  {
   "cell_type": "markdown",
   "id": "6e75ab1b",
   "metadata": {},
   "source": [
    "* Given a list of words, create a second list which contains all the words from the first list which do not end with a vowel\n"
   ]
  },
  {
   "cell_type": "code",
   "execution_count": 26,
   "id": "1f64db1c",
   "metadata": {},
   "outputs": [
    {
     "data": {
      "text/plain": [
       "['gif', 'raep', 'klim']"
      ]
     },
     "execution_count": 26,
     "metadata": {},
     "output_type": "execute_result"
    }
   ],
   "source": [
    "words = 'apple fig pear banana milk tomato'.split()\n",
    "no_end_in_vowel_words = [word[::-1] for word in words\n",
    "                                if word[-1] not in 'aeiou'] # filter\n",
    "no_end_in_vowel_words"
   ]
  },
  {
   "cell_type": "code",
   "execution_count": 25,
   "id": "695b15e0",
   "metadata": {},
   "outputs": [
    {
     "data": {
      "text/plain": [
       "'ecrofselas'"
      ]
     },
     "execution_count": 25,
     "metadata": {},
     "output_type": "execute_result"
    }
   ],
   "source": [
    "'salesforce'[::-1]"
   ]
  },
  {
   "cell_type": "markdown",
   "id": "b24b4d7a",
   "metadata": {},
   "source": [
    "* Use a list comprehension to create a list of the integers from 1 to 100 which are not divisible by 5\n"
   ]
  },
  {
   "cell_type": "code",
   "execution_count": null,
   "id": "6e420982",
   "metadata": {},
   "outputs": [
    {
     "name": "stdout",
     "output_type": "stream",
     "text": [
      "[1, 2, 3, 4, 6, 7, 8, 9, 11, 12, 13, 14, 16, 17, 18, 19, 21, 22, 23, 24, 26, 27, 28, 29, 31, 32, 33, 34, 36, 37, 38, 39, 41, 42, 43, 44, 46, 47, 48, 49, 51, 52, 53, 54, 56, 57, 58, 59, 61, 62, 63, 64, 66, 67, 68, 69, 71, 72, 73, 74, 76, 77, 78, 79, 81, 82, 83, 84, 86, 87, 88, 89, 91, 92, 93, 94, 96, 97, 98, 99]\n"
     ]
    }
   ],
   "source": [
    "no_divis_by_5 = [num for num in range(1, 101) if num % 5] # filter\n",
    "print(no_divis_by_5)"
   ]
  },
  {
   "cell_type": "markdown",
   "id": "4fcd22f8",
   "metadata": {},
   "source": [
    "## \"Truthiness\"\n",
    "* in a Boolean context...\n",
    "* 0 and 0.0 are considered False; all other numbers are considered True\n",
    "* empty containers are considered False; non-empty containers are considered True"
   ]
  },
  {
   "cell_type": "code",
   "execution_count": 34,
   "id": "dc08a5ec",
   "metadata": {},
   "outputs": [],
   "source": [
    "number = 0.01"
   ]
  },
  {
   "cell_type": "code",
   "execution_count": 35,
   "id": "3619ec2c",
   "metadata": {},
   "outputs": [
    {
     "name": "stdout",
     "output_type": "stream",
     "text": [
      "yep\n"
     ]
    }
   ],
   "source": [
    "if number: # \"is this number non-zero\"\n",
    "    print('yep')"
   ]
  },
  {
   "cell_type": "code",
   "execution_count": 44,
   "id": "85fbb837",
   "metadata": {},
   "outputs": [
    {
     "data": {
      "text/plain": [
       "0"
      ]
     },
     "execution_count": 44,
     "metadata": {},
     "output_type": "execute_result"
    }
   ],
   "source": [
    "container = ''\n",
    "len(container)"
   ]
  },
  {
   "cell_type": "code",
   "execution_count": 43,
   "id": "e76abd9b",
   "metadata": {},
   "outputs": [],
   "source": [
    "if container: # is container non-empty?\n",
    "    print('yep!')"
   ]
  },
  {
   "cell_type": "markdown",
   "id": "0b312854",
   "metadata": {},
   "source": [
    "* Use a list comprehension and __`zip()`__ to create a list of lists, where the list items are name and ID number that you grabbed from separate lists of names and ID numbers\n",
    "  * start with a list of, say, 5 names ['John', 'Mary', 'Edward', 'Linda', 'Dinesh']\n",
    "  * and a list of, say, 5 ID numbers [1003, 2043, 8762, 7862, 1093]\n",
    "  * additional wrinkle: do not include any names whose corresponding ID is -1\n",
    "  "
   ]
  },
  {
   "cell_type": "code",
   "execution_count": 46,
   "id": "f7c9ab72",
   "metadata": {},
   "outputs": [
    {
     "data": {
      "text/plain": [
       "[['John', 1003],\n",
       " ['Mary', 2043],\n",
       " ['Edward', 8762],\n",
       " ['Linda', 7862],\n",
       " ['Dinesh', 1093]]"
      ]
     },
     "execution_count": 46,
     "metadata": {},
     "output_type": "execute_result"
    }
   ],
   "source": [
    "names = ['John', 'Mary', 'Edward', 'Linda', 'Dinesh']\n",
    "ids = [1003, 2043, 8762, 7862, 1093]\n",
    "\n",
    "employees = [[name, id] for name, id in zip(names, ids)]\n",
    "employees"
   ]
  },
  {
   "cell_type": "code",
   "execution_count": 47,
   "id": "f5699a6b",
   "metadata": {},
   "outputs": [
    {
     "data": {
      "text/plain": [
       "[['John', 1003], ['Mary', 2043], ['Linda', 7862]]"
      ]
     },
     "execution_count": 47,
     "metadata": {},
     "output_type": "execute_result"
    }
   ],
   "source": [
    "names = ['John', 'Mary', 'Edward', 'Linda', 'Dinesh']\n",
    "ids = [1003, 2043, -1, 7862, -1]\n",
    "\n",
    "employees = [[name, id] for name, id in zip(names, ids)\n",
    "                            if id != -1]\n",
    "employees"
   ]
  },
  {
   "cell_type": "code",
   "execution_count": 53,
   "id": "a8bb9165",
   "metadata": {},
   "outputs": [],
   "source": [
    "x = 3\n",
    "y = 4"
   ]
  },
  {
   "cell_type": "code",
   "execution_count": 56,
   "id": "fa6c381e",
   "metadata": {},
   "outputs": [
    {
     "name": "stdout",
     "output_type": "stream",
     "text": [
      "4 3\n"
     ]
    }
   ],
   "source": [
    "x, y = y, x\n",
    "print(x, y)"
   ]
  },
  {
   "cell_type": "code",
   "execution_count": 50,
   "id": "c77cc5dc",
   "metadata": {},
   "outputs": [
    {
     "name": "stdout",
     "output_type": "stream",
     "text": [
      "4 3\n"
     ]
    }
   ],
   "source": [
    "temp = x\n",
    "x = y\n",
    "y = temp\n",
    "print(x, y)"
   ]
  },
  {
   "cell_type": "code",
   "execution_count": 57,
   "id": "13274403",
   "metadata": {},
   "outputs": [],
   "source": [
    "t = 'Benioff', 'Marc', 'CEO', 1997"
   ]
  },
  {
   "cell_type": "code",
   "execution_count": 58,
   "id": "71725982",
   "metadata": {},
   "outputs": [],
   "source": [
    "last, first, *rest = t"
   ]
  },
  {
   "cell_type": "markdown",
   "id": "9e664cc6",
   "metadata": {},
   "source": []
  },
  {
   "cell_type": "code",
   "execution_count": 59,
   "id": "75f08846",
   "metadata": {},
   "outputs": [
    {
     "data": {
      "text/plain": [
       "('Benioff', 'Marc')"
      ]
     },
     "execution_count": 59,
     "metadata": {},
     "output_type": "execute_result"
    }
   ],
   "source": [
    "last, first"
   ]
  },
  {
   "cell_type": "code",
   "execution_count": 60,
   "id": "4d6f3281",
   "metadata": {},
   "outputs": [
    {
     "data": {
      "text/plain": [
       "['CEO', 1997]"
      ]
     },
     "execution_count": 60,
     "metadata": {},
     "output_type": "execute_result"
    }
   ],
   "source": [
    "rest"
   ]
  },
  {
   "cell_type": "code",
   "execution_count": null,
   "id": "4e603145",
   "metadata": {},
   "outputs": [],
   "source": [
    "last, first, *_ = t"
   ]
  },
  {
   "cell_type": "code",
   "execution_count": null,
   "id": "b77fa847",
   "metadata": {},
   "outputs": [
    {
     "name": "stdout",
     "output_type": "stream",
     "text": [
      "did we do this?\n",
      "did we do this?\n",
      "did we do this?\n",
      "did we do this?\n",
      "did we do this?\n"
     ]
    }
   ],
   "source": [
    "for _ in range(5): # _ signals the reader that we don't need this value\n",
    "                   # _ says this loop is \"repeat the action 5 times\"\n",
    "    print('did we do this?')"
   ]
  },
  {
   "cell_type": "code",
   "execution_count": 68,
   "id": "0ef3a8d5",
   "metadata": {},
   "outputs": [
    {
     "name": "stdout",
     "output_type": "stream",
     "text": [
      "10\n",
      "9\n",
      "8\n",
      "7\n",
      "6\n",
      "5\n",
      "4\n",
      "3\n",
      "2\n",
      "1\n",
      "blast off\n"
     ]
    }
   ],
   "source": [
    "for count in range(10, 0, -1):\n",
    "    print(count)\n",
    "print('blast off')\n",
    "    "
   ]
  },
  {
   "cell_type": "code",
   "execution_count": 69,
   "id": "3301fbb9",
   "metadata": {},
   "outputs": [],
   "source": [
    "t = 'Benioff', 'Marc', 'CEO', 1997"
   ]
  },
  {
   "cell_type": "code",
   "execution_count": 71,
   "id": "bfb968ec",
   "metadata": {},
   "outputs": [],
   "source": [
    "last, first, _, year = t # should make clear to the reader that the third field of the tuple isn't interesting"
   ]
  },
  {
   "cell_type": "code",
   "execution_count": 72,
   "id": "8ab3ddf9",
   "metadata": {},
   "outputs": [
    {
     "name": "stdout",
     "output_type": "stream",
     "text": [
      "TWO roads diverged in a yellow wood,\t\n",
      "And sorry I could not travel both\t\n",
      "And be one traveler, long I stood\t\n",
      "And looked down one as far as I could\t\n",
      "To where it bent in the undergrowth;\n",
      " \n",
      "Then took the other, as just as fair,\t\n",
      "And having perhaps the better claim,\t\n",
      "Because it was grassy and wanted wear;\t\n",
      "Though as for that the passing there\t\n",
      "Had worn them really about the same,\n",
      " \n",
      "And both that morning equally lay\t\n",
      "In leaves no step had trodden black.\t\n",
      "Oh, I kept the first for another day!\t\n",
      "Yet knowing how way leads on to way,\t\n",
      "I doubted if I should ever come back.\n",
      " \n",
      "I shall be telling this with a sigh\t\n",
      "Somewhere ages and ages hence:\t\n",
      "Two roads diverged in a wood, and I—\t\n",
      "I took the one less traveled by,\t\n",
      "And that has made all the difference.\n"
     ]
    }
   ],
   "source": [
    "%cat poem.txt"
   ]
  },
  {
   "cell_type": "code",
   "execution_count": 81,
   "id": "6f5aa336",
   "metadata": {},
   "outputs": [],
   "source": [
    "f = open('poem.txt') # 'r' is the default"
   ]
  },
  {
   "cell_type": "code",
   "execution_count": null,
   "id": "d17f16c4",
   "metadata": {},
   "outputs": [
    {
     "name": "stdout",
     "output_type": "stream",
     "text": [
      "TWO roads diverged in a yellow wood,\t\n",
      "And be one traveler, long I stood\t\n",
      "To where it bent in the undergrowth;\n",
      "Then took the other, as just as fair,\t\n",
      "Because it was grassy and wanted wear;\t\n",
      "Had worn them really about the same,\n",
      "And both that morning equally lay\t\n",
      "Oh, I kept the first for another day!\t\n",
      "I doubted if I should ever come back.\n",
      "I shall be telling this with a sigh\t\n",
      "Two roads diverged in a wood, and I—\t\n",
      "And that has made all the difference.\n"
     ]
    }
   ],
   "source": [
    "line_no = 1\n",
    "for each_line in f: # Python lets us iterate through files\n",
    "    if line_no % 2 == 1: # odd\n",
    "        print(each_line, end='') # don't print \\n after each line\n",
    "    line_no += 1\n",
    "\n",
    "# ...\n",
    "# ...\n",
    "f.close()"
   ]
  },
  {
   "cell_type": "code",
   "execution_count": 83,
   "id": "293a5be5",
   "metadata": {},
   "outputs": [],
   "source": [
    "f.close()"
   ]
  },
  {
   "cell_type": "code",
   "execution_count": null,
   "id": "3d3e38df",
   "metadata": {},
   "outputs": [
    {
     "name": "stdout",
     "output_type": "stream",
     "text": [
      "TWO roads diverged in a yellow wood,\t\n",
      "And sorry I could not travel both\t\n",
      "And be one traveler, long I stood\t\n",
      "And looked down one as far as I could\t\n",
      "To where it bent in the undergrowth;\n",
      " \n",
      "Then took the other, as just as fair,\t\n",
      "And having perhaps the better claim,\t\n",
      "Because it was grassy and wanted wear;\t\n",
      "Though as for that the passing there\t\n",
      "Had worn them really about the same,\n",
      " \n",
      "And both that morning equally lay\t\n",
      "In leaves no step had trodden black.\t\n",
      "Oh, I kept the first for another day!\t\n",
      "Yet knowing how way leads on to way,\t\n",
      "I doubted if I should ever come back.\n",
      " \n",
      "I shall be telling this with a sigh\t\n",
      "Somewhere ages and ages hence:\t\n",
      "Two roads diverged in a wood, and I—\t\n",
      "I took the one less traveled by,\t\n",
      "And that has made all the difference.\n",
      "in with block, f.closed = False\n",
      "after with block, f.closed = True\n"
     ]
    }
   ],
   "source": [
    "with open('poem.txt') as f:\n",
    "    # processing of the file...\n",
    "    for each_line in f: # Python lets us iterate through files\n",
    "        print(each_line, end='')\n",
    "    print('in with block, f.closed =', f.closed)\n",
    "    # don't put stuff in here that is not related/processing the file\n",
    "\n",
    "# the file f was automagically closed by Python when leaving the with block\n",
    "print('after with block, f.closed =', f.closed)    "
   ]
  },
  {
   "cell_type": "code",
   "execution_count": 87,
   "id": "e0931044",
   "metadata": {},
   "outputs": [],
   "source": [
    "employee = 'Williams', 'Mike', 2024, True"
   ]
  },
  {
   "cell_type": "code",
   "execution_count": null,
   "id": "befbded5",
   "metadata": {},
   "outputs": [],
   "source": [
    "last, first, start_year, boomerang = employee # tuple unpacking"
   ]
  },
  {
   "cell_type": "code",
   "execution_count": null,
   "id": "9e427ba7",
   "metadata": {},
   "outputs": [],
   "source": [
    "last, first, start_year, _ = employee # tuple unpacking and ignoring some field(s)"
   ]
  },
  {
   "cell_type": "code",
   "execution_count": 91,
   "id": "b41378b1",
   "metadata": {},
   "outputs": [],
   "source": [
    "last, first, *rest = employee # tuple unpacking and grouping remaining stuff into a list"
   ]
  },
  {
   "cell_type": "code",
   "execution_count": 92,
   "id": "6f190258",
   "metadata": {},
   "outputs": [
    {
     "data": {
      "text/plain": [
       "[2024, True]"
      ]
     },
     "execution_count": 92,
     "metadata": {},
     "output_type": "execute_result"
    }
   ],
   "source": [
    "rest"
   ]
  },
  {
   "cell_type": "code",
   "execution_count": 94,
   "id": "1accb97b",
   "metadata": {},
   "outputs": [
    {
     "data": {
      "text/plain": [
       "[0, 1, 2, 3, 4, 5, 6, 7, 8, 9]"
      ]
     },
     "execution_count": 94,
     "metadata": {},
     "output_type": "execute_result"
    }
   ],
   "source": [
    "nums = list(range(10))\n",
    "nums"
   ]
  },
  {
   "cell_type": "code",
   "execution_count": 98,
   "id": "094ba800",
   "metadata": {},
   "outputs": [],
   "source": [
    "first, *rest, last = nums"
   ]
  },
  {
   "cell_type": "code",
   "execution_count": 96,
   "id": "cbc9b4c8",
   "metadata": {},
   "outputs": [
    {
     "data": {
      "text/plain": [
       "0"
      ]
     },
     "execution_count": 96,
     "metadata": {},
     "output_type": "execute_result"
    }
   ],
   "source": [
    "first"
   ]
  },
  {
   "cell_type": "code",
   "execution_count": 99,
   "id": "116b915f",
   "metadata": {},
   "outputs": [
    {
     "data": {
      "text/plain": [
       "[1, 2, 3, 4, 5, 6, 7, 8]"
      ]
     },
     "execution_count": 99,
     "metadata": {},
     "output_type": "execute_result"
    }
   ],
   "source": [
    "rest"
   ]
  },
  {
   "cell_type": "code",
   "execution_count": 100,
   "id": "1363a95e",
   "metadata": {},
   "outputs": [
    {
     "data": {
      "text/plain": [
       "9"
      ]
     },
     "execution_count": 100,
     "metadata": {},
     "output_type": "execute_result"
    }
   ],
   "source": [
    "last"
   ]
  },
  {
   "cell_type": "code",
   "execution_count": 101,
   "id": "bd3fee30",
   "metadata": {},
   "outputs": [],
   "source": [
    "first, *_, last = nums"
   ]
  },
  {
   "cell_type": "code",
   "execution_count": 102,
   "id": "863c1fbf",
   "metadata": {},
   "outputs": [
    {
     "data": {
      "text/plain": [
       "[1, 2, 3, 4, 5, 6, 7, 8]"
      ]
     },
     "execution_count": 102,
     "metadata": {},
     "output_type": "execute_result"
    }
   ],
   "source": [
    "_"
   ]
  },
  {
   "cell_type": "code",
   "execution_count": 103,
   "id": "c768a586",
   "metadata": {},
   "outputs": [
    {
     "data": {
      "text/plain": [
       "3"
      ]
     },
     "execution_count": 103,
     "metadata": {},
     "output_type": "execute_result"
    }
   ],
   "source": [
    "nums[3]"
   ]
  },
  {
   "cell_type": "markdown",
   "id": "fdb2bb45",
   "metadata": {},
   "source": [
    "## Lab: Exceptions\n",
    "1. write a function to \"int-ify\" a string safely–if the int-ification fails, return __`None`__\n",
    "2. write a function to convert a list of strings into a list of ints\n",
    "   * if the input is, say, __`['1', '3', '0', '12', '8']`__, the output should be __`[1, 3, 0, 12, 8]`__\n",
    "   * if the input contains an item which can't be converted, the result should be -1, e.g,\n",
    "     * input: __`['1', '3', '0', 'x', '9']`__ output: __`[1, 3, 0, -1, 9]`__\n",
    "   * your function may call the function you wrote above, if you wish\n",
    "3. write a function which raises an exception, rather than returning a sentinel value\n",
    "   * use the __`raise`__ keyword in Python to raise an exception\n",
    "   * perhaps a \"withdraw\" function which accepts the amount to withdraw and the current balance as arguments"
   ]
  },
  {
   "cell_type": "code",
   "execution_count": 125,
   "id": "095aeb6b",
   "metadata": {},
   "outputs": [],
   "source": [
    "def intify(num_string):\n",
    "    \"\"\"Return the integer value of a string.\n",
    "\n",
    "    Returns None if the string can't be \"int-ified\".\n",
    "    \"\"\"\n",
    "    try:\n",
    "        return int(num_string)\n",
    "    except ValueError:\n",
    "        return None\n"
   ]
  },
  {
   "cell_type": "code",
   "execution_count": 127,
   "id": "28586dd1",
   "metadata": {},
   "outputs": [
    {
     "data": {
      "text/plain": [
       "(None, -12345)"
      ]
     },
     "execution_count": 127,
     "metadata": {},
     "output_type": "execute_result"
    }
   ],
   "source": [
    "intify('bad'), intify('-12345')"
   ]
  },
  {
   "cell_type": "code",
   "execution_count": null,
   "id": "5f1d381b",
   "metadata": {},
   "outputs": [],
   "source": [
    "def convert_strings_to_ints(list_of_strings):\n",
    "    \"\"\"Return a list of ints from each converted string.\"\"\"\n",
    "\n",
    "    numeric_vals = []\n",
    "    \n",
    "    for string in list_of_strings:\n",
    "        try:\n",
    "            numeric_vals.append(int(string))\n",
    "        except ValueError:\n",
    "            numeric_vals.append(-1) # if conversion fails, substitute a -1\n",
    "    \n",
    "    return numeric_vals\n"
   ]
  },
  {
   "cell_type": "code",
   "execution_count": 124,
   "id": "e8e383b5",
   "metadata": {},
   "outputs": [
    {
     "name": "stdout",
     "output_type": "stream",
     "text": [
      "[1, 23, -45, 19]\n",
      "[1, 23, -45, -1]\n"
     ]
    }
   ],
   "source": [
    "mylist = ['1', '23', '-45', '19']\n",
    "print(convert_strings_to_ints(mylist))\n",
    "mylist[-1] = '19x'\n",
    "print(convert_strings_to_ints(mylist))"
   ]
  },
  {
   "cell_type": "code",
   "execution_count": null,
   "id": "93c82d49",
   "metadata": {},
   "outputs": [],
   "source": [
    "def withdraw(balance, amount):\n",
    "    \"\"\"Reduce balance by amount\".\n",
    "\n",
    "    Throws ValueError if amount exceeds balance.\n",
    "    \"\"\"\n",
    "    if amount <= balance:\n",
    "        balance -= amount\n",
    "        return balance\n",
    "    else:\n",
    "        raise ValueError(f\"Cannot withdraw €{amount}, or account would be overdrawn!\")"
   ]
  },
  {
   "cell_type": "code",
   "execution_count": 120,
   "id": "d91703ab",
   "metadata": {},
   "outputs": [
    {
     "ename": "ValueError",
     "evalue": "Cannot withdraw €200, or account would be overdrawn!",
     "output_type": "error",
     "traceback": [
      "\u001b[0;31m---------------------------------------------------------------------------\u001b[0m",
      "\u001b[0;31mValueError\u001b[0m                                Traceback (most recent call last)",
      "Cell \u001b[0;32mIn[120], line 1\u001b[0m\n\u001b[0;32m----> 1\u001b[0m withdraw(\u001b[38;5;241m200\u001b[39m, \u001b[38;5;241m20\u001b[39m), \u001b[43mwithdraw\u001b[49m\u001b[43m(\u001b[49m\u001b[38;5;241;43m20\u001b[39;49m\u001b[43m,\u001b[49m\u001b[43m \u001b[49m\u001b[38;5;241;43m200\u001b[39;49m\u001b[43m)\u001b[49m\n",
      "Cell \u001b[0;32mIn[119], line 10\u001b[0m, in \u001b[0;36mwithdraw\u001b[0;34m(balance, amount)\u001b[0m\n\u001b[1;32m      8\u001b[0m     \u001b[38;5;28;01mreturn\u001b[39;00m balance\n\u001b[1;32m      9\u001b[0m \u001b[38;5;28;01melse\u001b[39;00m:\n\u001b[0;32m---> 10\u001b[0m     \u001b[38;5;28;01mraise\u001b[39;00m \u001b[38;5;167;01mValueError\u001b[39;00m(\u001b[38;5;124mf\u001b[39m\u001b[38;5;124m\"\u001b[39m\u001b[38;5;124mCannot withdraw €\u001b[39m\u001b[38;5;132;01m{\u001b[39;00mamount\u001b[38;5;132;01m}\u001b[39;00m\u001b[38;5;124m, or account would be overdrawn!\u001b[39m\u001b[38;5;124m\"\u001b[39m)\n",
      "\u001b[0;31mValueError\u001b[0m: Cannot withdraw €200, or account would be overdrawn!"
     ]
    }
   ],
   "source": [
    "withdraw(200, 20), withdraw(20, 200)"
   ]
  },
  {
   "cell_type": "markdown",
   "id": "28410d61",
   "metadata": {},
   "source": []
  },
  {
   "cell_type": "code",
   "execution_count": 130,
   "id": "ea5a0bd2",
   "metadata": {},
   "outputs": [],
   "source": [
    "# containers\n",
    "string = 'salesforce'\n",
    "names = 'Virginia Mike Rajesh Sirisha Uday'.split() # list\n",
    "employee = 'Williams', 'Mike', 2025, 'boomerang' # tuple\n",
    "name_dict = { 'Virginia': 'Yee', 'Mike': 'Williams' }\n",
    "name_set = { 'Virginia', 'Mike', 'Braden' } # set\n"
   ]
  },
  {
   "cell_type": "code",
   "execution_count": 132,
   "id": "120b7536",
   "metadata": {},
   "outputs": [
    {
     "data": {
      "text/plain": [
       "False"
      ]
     },
     "execution_count": 132,
     "metadata": {},
     "output_type": "execute_result"
    }
   ],
   "source": [
    "'Dinesh' in names"
   ]
  },
  {
   "cell_type": "code",
   "execution_count": 135,
   "id": "5352b5e9",
   "metadata": {},
   "outputs": [
    {
     "data": {
      "text/plain": [
       "True"
      ]
     },
     "execution_count": 135,
     "metadata": {},
     "output_type": "execute_result"
    }
   ],
   "source": [
    "'Yee' in name_dict.values()"
   ]
  },
  {
   "cell_type": "code",
   "execution_count": null,
   "id": "1e123a94",
   "metadata": {},
   "outputs": [
    {
     "data": {
      "text/plain": [
       "True"
      ]
     },
     "execution_count": 138,
     "metadata": {},
     "output_type": "execute_result"
    }
   ],
   "source": [
    "'Virginia' in name_dict"
   ]
  },
  {
   "cell_type": "code",
   "execution_count": 139,
   "id": "2f5c3a20",
   "metadata": {},
   "outputs": [
    {
     "data": {
      "text/plain": [
       "True"
      ]
     },
     "execution_count": 139,
     "metadata": {},
     "output_type": "execute_result"
    }
   ],
   "source": [
    "'s' in 'salesforce'"
   ]
  },
  {
   "cell_type": "code",
   "execution_count": null,
   "id": "0513d9a6",
   "metadata": {},
   "outputs": [
    {
     "data": {
      "text/plain": [
       "True"
      ]
     },
     "execution_count": 140,
     "metadata": {},
     "output_type": "execute_result"
    }
   ],
   "source": [
    "'sales' in 'salesforce' # lets you do a substring"
   ]
  },
  {
   "cell_type": "code",
   "execution_count": 145,
   "id": "5caa56eb",
   "metadata": {},
   "outputs": [],
   "source": [
    "my_dict = { 'one': 1, 'two': 2, 'too': 2, 'three': 3 }"
   ]
  },
  {
   "cell_type": "code",
   "execution_count": 143,
   "id": "010d4d75",
   "metadata": {},
   "outputs": [
    {
     "name": "stdout",
     "output_type": "stream",
     "text": [
      "bad key: one!\n"
     ]
    }
   ],
   "source": [
    "# EAFP style\n",
    "key = 'one!'\n",
    "\n",
    "# ...\n",
    "\n",
    "try:\n",
    "    print(my_dict[key])\n",
    "except KeyError:\n",
    "    print('bad key:', key)"
   ]
  },
  {
   "cell_type": "code",
   "execution_count": null,
   "id": "0fcd1841",
   "metadata": {},
   "outputs": [],
   "source": [
    "# LBYL style\n",
    "key = 'one!'\n",
    "\n",
    "# question to ask\n",
    "if key in my_dict: # Look...\n",
    "    print(my_dict[key]) # Leap\n",
    "else: \n",
    "    print('bad key:', key)"
   ]
  },
  {
   "cell_type": "code",
   "execution_count": 149,
   "id": "458e7392",
   "metadata": {},
   "outputs": [
    {
     "name": "stdout",
     "output_type": "stream",
     "text": [
      "Help on built-in function get:\n",
      "\n",
      "get(key, default=None, /) method of builtins.dict instance\n",
      "    Return the value for key if key is in the dictionary, else default.\n",
      "\n"
     ]
    }
   ],
   "source": [
    "help(my_dict.get)"
   ]
  },
  {
   "cell_type": "code",
   "execution_count": null,
   "id": "19262e8d",
   "metadata": {},
   "outputs": [
    {
     "name": "stdout",
     "output_type": "stream",
     "text": [
      "0\n"
     ]
    }
   ],
   "source": [
    "print(my_dict.get('toon', 0)) # personally, I don't like this"
   ]
  },
  {
   "cell_type": "code",
   "execution_count": null,
   "id": "0714790e",
   "metadata": {},
   "outputs": [
    {
     "ename": "ValueError",
     "evalue": "invalid literal for int() with base 10: 'fejfkdfk'",
     "output_type": "error",
     "traceback": [
      "\u001b[0;31m---------------------------------------------------------------------------\u001b[0m",
      "\u001b[0;31mValueError\u001b[0m                                Traceback (most recent call last)",
      "Cell \u001b[0;32mIn[157], line 1\u001b[0m\n\u001b[0;32m----> 1\u001b[0m number \u001b[38;5;241m=\u001b[39m \u001b[38;5;28;43mint\u001b[39;49m\u001b[43m(\u001b[49m\u001b[38;5;28;43minput\u001b[39;49m\u001b[43m(\u001b[49m\u001b[38;5;124;43m'\u001b[39;49m\u001b[38;5;124;43mEnter a number: \u001b[39;49m\u001b[38;5;124;43m'\u001b[39;49m\u001b[43m)\u001b[49m\u001b[43m)\u001b[49m\n",
      "\u001b[0;31mValueError\u001b[0m: invalid literal for int() with base 10: 'fejfkdfk'"
     ]
    }
   ],
   "source": [
    "number = int(input('Enter a number: '))"
   ]
  },
  {
   "cell_type": "code",
   "execution_count": 156,
   "id": "ec2dd38b",
   "metadata": {},
   "outputs": [
    {
     "data": {
      "text/plain": [
       "351"
      ]
     },
     "execution_count": 156,
     "metadata": {},
     "output_type": "execute_result"
    }
   ],
   "source": [
    "number"
   ]
  },
  {
   "cell_type": "code",
   "execution_count": 158,
   "id": "f503ce1d",
   "metadata": {},
   "outputs": [],
   "source": [
    "number = input('Enter a number: ')"
   ]
  },
  {
   "cell_type": "code",
   "execution_count": 169,
   "id": "b7965c52",
   "metadata": {},
   "outputs": [],
   "source": [
    "number = '    -1234      '"
   ]
  },
  {
   "cell_type": "code",
   "execution_count": 167,
   "id": "83b574d6",
   "metadata": {},
   "outputs": [
    {
     "data": {
      "text/plain": [
       "False"
      ]
     },
     "execution_count": 167,
     "metadata": {},
     "output_type": "execute_result"
    }
   ],
   "source": [
    "number.isdigit()"
   ]
  },
  {
   "cell_type": "code",
   "execution_count": 170,
   "id": "b358c0fa",
   "metadata": {},
   "outputs": [
    {
     "data": {
      "text/plain": [
       "-1234"
      ]
     },
     "execution_count": 170,
     "metadata": {},
     "output_type": "execute_result"
    }
   ],
   "source": [
    "int(number)"
   ]
  },
  {
   "cell_type": "code",
   "execution_count": 171,
   "id": "2bdee32e",
   "metadata": {},
   "outputs": [],
   "source": [
    "try:\n",
    "    int(number)\n",
    "except ValueError:\n",
    "    print('bad number')"
   ]
  },
  {
   "cell_type": "markdown",
   "id": "b9a82f8c",
   "metadata": {},
   "source": [
    "## Do LBYL if it's EASY, otherwise EAFP\n",
    "* if you have to jump thru a lot of hoops to LBYL (or it's not possible at all), then EAFP"
   ]
  },
  {
   "cell_type": "code",
   "execution_count": 172,
   "id": "587f4bd3",
   "metadata": {},
   "outputs": [],
   "source": [
    "my_list = 'apple fig pear banana'.split()"
   ]
  },
  {
   "cell_type": "code",
   "execution_count": 182,
   "id": "87748ac7",
   "metadata": {},
   "outputs": [
    {
     "ename": "IndexError",
     "evalue": "list index out of range",
     "output_type": "error",
     "traceback": [
      "\u001b[0;31m---------------------------------------------------------------------------\u001b[0m",
      "\u001b[0;31mIndexError\u001b[0m                                Traceback (most recent call last)",
      "Cell \u001b[0;32mIn[182], line 3\u001b[0m\n\u001b[1;32m      1\u001b[0m index \u001b[38;5;241m=\u001b[39m \u001b[38;5;241m21\u001b[39m\n\u001b[1;32m      2\u001b[0m \u001b[38;5;66;03m# ...\u001b[39;00m\n\u001b[0;32m----> 3\u001b[0m \u001b[43mmy_list\u001b[49m\u001b[43m[\u001b[49m\u001b[43mindex\u001b[49m\u001b[43m]\u001b[49m\n",
      "\u001b[0;31mIndexError\u001b[0m: list index out of range"
     ]
    }
   ],
   "source": [
    "index = 21\n",
    "# ...\n",
    "my_list[index]"
   ]
  },
  {
   "cell_type": "code",
   "execution_count": 184,
   "id": "d0d0ea0c",
   "metadata": {},
   "outputs": [
    {
     "name": "stdout",
     "output_type": "stream",
     "text": [
      "out of range!\n"
     ]
    }
   ],
   "source": [
    "if index < len(my_list): # LBYL\n",
    "    print(my_list[index])\n",
    "else:\n",
    "    print('out of range!')"
   ]
  },
  {
   "cell_type": "code",
   "execution_count": null,
   "id": "fc08d71f",
   "metadata": {},
   "outputs": [
    {
     "name": "stdout",
     "output_type": "stream",
     "text": [
      "out of range!\n"
     ]
    }
   ],
   "source": [
    "try:\n",
    "    print(my_list[index])\n",
    "except IndexError:\n",
    "    print('out of range!')"
   ]
  },
  {
   "cell_type": "code",
   "execution_count": 186,
   "id": "afb69e07",
   "metadata": {},
   "outputs": [],
   "source": [
    "import random"
   ]
  },
  {
   "cell_type": "code",
   "execution_count": 187,
   "id": "fee0ba10",
   "metadata": {},
   "outputs": [
    {
     "data": {
      "text/plain": [
       "'/Library/Frameworks/Python.framework/Versions/3.13/lib/python3.13/random.py'"
      ]
     },
     "execution_count": 187,
     "metadata": {},
     "output_type": "execute_result"
    }
   ],
   "source": [
    "random.__file__ # where did you import that file from"
   ]
  },
  {
   "cell_type": "code",
   "execution_count": 189,
   "id": "4a1c2528",
   "metadata": {},
   "outputs": [],
   "source": [
    "import string"
   ]
  },
  {
   "cell_type": "code",
   "execution_count": 190,
   "id": "a839ffdb",
   "metadata": {},
   "outputs": [
    {
     "data": {
      "text/plain": [
       "'/Library/Frameworks/Python.framework/Versions/3.13/lib/python3.13/string.py'"
      ]
     },
     "execution_count": 190,
     "metadata": {},
     "output_type": "execute_result"
    }
   ],
   "source": [
    "string.__file__"
   ]
  },
  {
   "cell_type": "code",
   "execution_count": 2,
   "id": "a9e78f80",
   "metadata": {},
   "outputs": [
    {
     "name": "stdout",
     "output_type": "stream",
     "text": [
      "__name__ is __main__\n"
     ]
    }
   ],
   "source": [
    "%run dunder_test.py"
   ]
  },
  {
   "cell_type": "code",
   "execution_count": 3,
   "id": "09ad4ce2",
   "metadata": {},
   "outputs": [
    {
     "name": "stdout",
     "output_type": "stream",
     "text": [
      "__name__ is dunder_test\n"
     ]
    }
   ],
   "source": [
    "import dunder_test # .py"
   ]
  },
  {
   "cell_type": "code",
   "execution_count": 4,
   "id": "e3cac64e",
   "metadata": {},
   "outputs": [],
   "source": [
    "assert 2 + 2 == 4"
   ]
  },
  {
   "cell_type": "code",
   "execution_count": 6,
   "id": "7caeae95",
   "metadata": {},
   "outputs": [
    {
     "ename": "AssertionError",
     "evalue": "What the heck?",
     "output_type": "error",
     "traceback": [
      "\u001b[0;31m---------------------------------------------------------------------------\u001b[0m",
      "\u001b[0;31mAssertionError\u001b[0m                            Traceback (most recent call last)",
      "Cell \u001b[0;32mIn[6], line 1\u001b[0m\n\u001b[0;32m----> 1\u001b[0m \u001b[38;5;28;01massert\u001b[39;00m \u001b[38;5;241m2\u001b[39m \u001b[38;5;241m+\u001b[39m \u001b[38;5;241m2\u001b[39m \u001b[38;5;241m==\u001b[39m \u001b[38;5;241m5\u001b[39m, \u001b[38;5;124m\"\u001b[39m\u001b[38;5;124mWhat the heck?\u001b[39m\u001b[38;5;124m\"\u001b[39m\n",
      "\u001b[0;31mAssertionError\u001b[0m: What the heck?"
     ]
    }
   ],
   "source": [
    "assert 2 + 2 == 5, \"What the heck?\""
   ]
  },
  {
   "cell_type": "code",
   "execution_count": 7,
   "id": "63ea14e6",
   "metadata": {},
   "outputs": [
    {
     "name": "stdout",
     "output_type": "stream",
     "text": [
      "\"\"\"A bunch of shared functions for the doohickey team.\"\"\"\n",
      "\n",
      "FOO_BAR = \"foo...bar\" # constant\n",
      "\n",
      "\n",
      "def func1():\n",
      "    \"\"\"func1\"\"\"\n",
      "    return None\n",
      "\n",
      "\n",
      "def func2(x):\n",
      "    \"\"\"func2\"\"\"\n",
      "    return x + 1\n",
      "\n",
      "\n",
      "def func3(x, y, z):\n",
      "    \"\"\"func3\"\"\"\n",
      "    return x + y + z\n",
      "\n",
      "\n",
      "# \"unit tests\" – not great, but better than nothing\n",
      "\n",
      "# smoke tests\n",
      "\n",
      "if __name__ == '__main__': # are we running this Python file or importing it?\n",
      "    assert func1() is None\n",
      "    assert func2(1) == 2\n",
      "    assert func3(1, 2, 3) == 6\n"
     ]
    }
   ],
   "source": [
    "%cat new_module.py"
   ]
  },
  {
   "cell_type": "code",
   "execution_count": 15,
   "id": "137a45b7",
   "metadata": {},
   "outputs": [
    {
     "name": "stdout",
     "output_type": "stream",
     "text": [
      "all tests passed\n"
     ]
    }
   ],
   "source": [
    "%run new_module.py"
   ]
  },
  {
   "cell_type": "code",
   "execution_count": 10,
   "id": "4ef2de14",
   "metadata": {},
   "outputs": [],
   "source": [
    "import new_module"
   ]
  },
  {
   "cell_type": "code",
   "execution_count": 12,
   "id": "d051cb8f",
   "metadata": {},
   "outputs": [
    {
     "data": {
      "text/plain": [
       "2"
      ]
     },
     "execution_count": 12,
     "metadata": {},
     "output_type": "execute_result"
    }
   ],
   "source": [
    "new_module.func2(1)"
   ]
  },
  {
   "cell_type": "markdown",
   "id": "80b7b6c1",
   "metadata": {},
   "source": [
    "# Modules"
   ]
  },
  {
   "cell_type": "code",
   "execution_count": 16,
   "id": "d7a8f742",
   "metadata": {},
   "outputs": [],
   "source": [
    "import data_functions"
   ]
  },
  {
   "cell_type": "code",
   "execution_count": 17,
   "id": "f5d48c1d",
   "metadata": {},
   "outputs": [
    {
     "data": {
      "text/plain": [
       "['__builtins__',\n",
       " '__cached__',\n",
       " '__doc__',\n",
       " '__file__',\n",
       " '__loader__',\n",
       " '__name__',\n",
       " '__package__',\n",
       " '__spec__',\n",
       " 'convert_strings_to_ints',\n",
       " 'intify',\n",
       " 'invert_a_dict']"
      ]
     },
     "execution_count": 17,
     "metadata": {},
     "output_type": "execute_result"
    }
   ],
   "source": [
    "dir(data_functions)"
   ]
  },
  {
   "cell_type": "code",
   "execution_count": 18,
   "id": "de6840c1",
   "metadata": {},
   "outputs": [
    {
     "data": {
      "text/plain": [
       "345"
      ]
     },
     "execution_count": 18,
     "metadata": {},
     "output_type": "execute_result"
    }
   ],
   "source": [
    "data_functions.intify('345')"
   ]
  },
  {
   "cell_type": "code",
   "execution_count": 19,
   "id": "867fc71b",
   "metadata": {},
   "outputs": [
    {
     "data": {
      "text/plain": [
       "[1, 2, 3, 4, -1]"
      ]
     },
     "execution_count": 19,
     "metadata": {},
     "output_type": "execute_result"
    }
   ],
   "source": [
    "data_functions.convert_strings_to_ints('1 2 3 4 x'.split())"
   ]
  },
  {
   "cell_type": "code",
   "execution_count": null,
   "id": "45408060",
   "metadata": {},
   "outputs": [
    {
     "data": {
      "text/plain": [
       "{1: 'a', 2: 'b', 3: 'c'}"
      ]
     },
     "execution_count": 20,
     "metadata": {},
     "output_type": "execute_result"
    }
   ],
   "source": [
    "data_functions.invert_a_dict({ 'a': 1, 'b': 2, 'c': 3 })"
   ]
  },
  {
   "cell_type": "code",
   "execution_count": 21,
   "id": "d5bb1845",
   "metadata": {},
   "outputs": [
    {
     "name": "stdout",
     "output_type": "stream",
     "text": [
      "Help on module data_functions:\n",
      "\n",
      "NAME\n",
      "    data_functions - Gazornin functions needed by the data team.\n",
      "\n",
      "FUNCTIONS\n",
      "    convert_strings_to_ints(list_of_strings)\n",
      "        Return a list of ints from each converted string.\n",
      "\n",
      "    intify(num_string)\n",
      "        Return the integer value of a string.\n",
      "\n",
      "        Returns None if the string can't be \"int-ified\".\n",
      "\n",
      "    invert_a_dict(d)\n",
      "        Invert a dictionary and return the inverted dict.\n",
      "\n",
      "        Won't work if any values in the dictionary are mutable.\n",
      "\n",
      "FILE\n",
      "    /Users/dave-wadestein/Downloads/Python/Intermediate-Python-salesforce/data_functions.py\n",
      "\n",
      "\n"
     ]
    }
   ],
   "source": [
    "help(data_functions)"
   ]
  },
  {
   "cell_type": "code",
   "execution_count": 22,
   "id": "50f305b8",
   "metadata": {},
   "outputs": [],
   "source": [
    "from importlib import reload"
   ]
  },
  {
   "cell_type": "code",
   "execution_count": 24,
   "id": "941693b9",
   "metadata": {},
   "outputs": [
    {
     "name": "stdout",
     "output_type": "stream",
     "text": [
      "hi\n"
     ]
    },
    {
     "data": {
      "text/plain": [
       "<module 'data_functions' from '/Users/dave-wadestein/Downloads/Python/Intermediate-Python-salesforce/data_functions.py'>"
      ]
     },
     "execution_count": 24,
     "metadata": {},
     "output_type": "execute_result"
    }
   ],
   "source": [
    "reload(data_functions)"
   ]
  },
  {
   "cell_type": "code",
   "execution_count": 26,
   "id": "dd5c994c",
   "metadata": {},
   "outputs": [
    {
     "name": "stdout",
     "output_type": "stream",
     "text": [
      "all tests passed\n"
     ]
    }
   ],
   "source": [
    "%run data_functions.py"
   ]
  },
  {
   "cell_type": "code",
   "execution_count": 1,
   "id": "3d157d94",
   "metadata": {},
   "outputs": [],
   "source": [
    "import data_functions"
   ]
  },
  {
   "cell_type": "code",
   "execution_count": 2,
   "id": "d01bd6e8",
   "metadata": {},
   "outputs": [
    {
     "name": "stdout",
     "output_type": "stream",
     "text": [
      "Help on module data_functions:\n",
      "\n",
      "NAME\n",
      "    data_functions - Gazornin functions needed by the data team.\n",
      "\n",
      "FUNCTIONS\n",
      "    convert_strings_to_ints(list_of_strings)\n",
      "        Return a list of ints from each converted string.\n",
      "\n",
      "    intify(num_string)\n",
      "        Return the integer value of a string.\n",
      "\n",
      "        Returns None if the string can't be \"int-ified\".\n",
      "\n",
      "    invert_a_dict(d)\n",
      "        Invert a dictionary and return the inverted dict.\n",
      "\n",
      "        Won't work if any values in the dictionary are mutable.\n",
      "\n",
      "FILE\n",
      "    /Users/dave-wadestein/Downloads/Python/Intermediate-Python-salesforce/data_functions.py\n",
      "\n",
      "\n"
     ]
    }
   ],
   "source": [
    "help(data_functions)"
   ]
  },
  {
   "cell_type": "code",
   "execution_count": 3,
   "id": "e7f5e0e0",
   "metadata": {},
   "outputs": [
    {
     "name": "stdout",
     "output_type": "stream",
     "text": [
      "None\n"
     ]
    }
   ],
   "source": [
    "print(data_functions.intify('45x'))"
   ]
  },
  {
   "cell_type": "code",
   "execution_count": 4,
   "id": "7c8039db",
   "metadata": {},
   "outputs": [],
   "source": [
    "employee_to_num = {'Mike': 157069, 'Santhosh': 20675, 'Carlos': 17271}"
   ]
  },
  {
   "cell_type": "code",
   "execution_count": 5,
   "id": "2cd2645c",
   "metadata": {},
   "outputs": [
    {
     "data": {
      "text/plain": [
       "17271"
      ]
     },
     "execution_count": 5,
     "metadata": {},
     "output_type": "execute_result"
    }
   ],
   "source": [
    "employee_to_num['Carlos']"
   ]
  },
  {
   "cell_type": "code",
   "execution_count": 6,
   "id": "c9766add",
   "metadata": {},
   "outputs": [
    {
     "data": {
      "text/plain": [
       "{157069: 'Mike', 20675: 'Santhosh', 17271: 'Carlos'}"
      ]
     },
     "execution_count": 6,
     "metadata": {},
     "output_type": "execute_result"
    }
   ],
   "source": [
    "data_functions.invert_a_dict(employee_to_num)"
   ]
  },
  {
   "cell_type": "code",
   "execution_count": 7,
   "id": "2908e9b7",
   "metadata": {},
   "outputs": [
    {
     "name": "stdout",
     "output_type": "stream",
     "text": [
      "all tests passed\n"
     ]
    }
   ],
   "source": [
    "%run data_functions.py"
   ]
  },
  {
   "cell_type": "code",
   "execution_count": 8,
   "id": "7ab852dc",
   "metadata": {},
   "outputs": [],
   "source": [
    "def newfunc():\n",
    "    return 0"
   ]
  },
  {
   "cell_type": "code",
   "execution_count": 9,
   "id": "49f80b51",
   "metadata": {},
   "outputs": [
    {
     "data": {
      "text/plain": [
       "0"
      ]
     },
     "execution_count": 9,
     "metadata": {},
     "output_type": "execute_result"
    }
   ],
   "source": [
    "newfunc()"
   ]
  },
  {
   "cell_type": "markdown",
   "id": "c68a6bfc",
   "metadata": {},
   "source": [
    "## functions are first-class objects\n",
    "* functions can be passed into other functions as arguments"
   ]
  },
  {
   "cell_type": "code",
   "execution_count": 11,
   "id": "14fdafed",
   "metadata": {},
   "outputs": [
    {
     "data": {
      "text/plain": [
       "['a', 'c', 'e', 'e', 'f', 'l', 'o', 'r', 's', 's']"
      ]
     },
     "execution_count": 11,
     "metadata": {},
     "output_type": "execute_result"
    }
   ],
   "source": [
    "sorted('salesforce')"
   ]
  },
  {
   "cell_type": "code",
   "execution_count": 16,
   "id": "48589613",
   "metadata": {},
   "outputs": [
    {
     "data": {
      "text/plain": [
       "[9, 6, 5, 3, 2, 1]"
      ]
     },
     "execution_count": 16,
     "metadata": {},
     "output_type": "execute_result"
    }
   ],
   "source": [
    "sorted([3, 2, 5, 1, 9, 6], reverse=True)"
   ]
  },
  {
   "cell_type": "code",
   "execution_count": 13,
   "id": "42ebcbba",
   "metadata": {},
   "outputs": [
    {
     "data": {
      "text/plain": [
       "['soup', 'thing']"
      ]
     },
     "execution_count": 13,
     "metadata": {},
     "output_type": "execute_result"
    }
   ],
   "source": [
    "sorted({ 'thing': 25, 'soup': 19 })"
   ]
  },
  {
   "cell_type": "code",
   "execution_count": 15,
   "id": "965ac9fe",
   "metadata": {},
   "outputs": [
    {
     "name": "stdout",
     "output_type": "stream",
     "text": [
      "1...2...3\n"
     ]
    }
   ],
   "source": [
    "print(1, 2, 3, sep='...')"
   ]
  },
  {
   "cell_type": "code",
   "execution_count": null,
   "id": "8be058ab",
   "metadata": {},
   "outputs": [],
   "source": [
    "words = 'apple fig pear'.split() # generate a lists"
   ]
  },
  {
   "cell_type": "code",
   "execution_count": 18,
   "id": "7f4593f5",
   "metadata": {},
   "outputs": [
    {
     "data": {
      "text/plain": [
       "['apple', 'fig', 'pear']"
      ]
     },
     "execution_count": 18,
     "metadata": {},
     "output_type": "execute_result"
    }
   ],
   "source": [
    "sorted(words)"
   ]
  },
  {
   "cell_type": "code",
   "execution_count": 19,
   "id": "06fe325d",
   "metadata": {},
   "outputs": [
    {
     "data": {
      "text/plain": [
       "['fig', 'pear', 'apple']"
      ]
     },
     "execution_count": 19,
     "metadata": {},
     "output_type": "execute_result"
    }
   ],
   "source": [
    "sorted(words, key=len)"
   ]
  },
  {
   "cell_type": "code",
   "execution_count": 20,
   "id": "60fd6fbc",
   "metadata": {},
   "outputs": [],
   "source": [
    "import math"
   ]
  },
  {
   "cell_type": "code",
   "execution_count": 21,
   "id": "26b7b552",
   "metadata": {},
   "outputs": [
    {
     "data": {
      "text/plain": [
       "<function math.factorial(n, /)>"
      ]
     },
     "execution_count": 21,
     "metadata": {},
     "output_type": "execute_result"
    }
   ],
   "source": [
    "math.factorial"
   ]
  },
  {
   "cell_type": "code",
   "execution_count": 22,
   "id": "3422f903",
   "metadata": {},
   "outputs": [],
   "source": [
    "def fact(n):\n",
    "    pass # placeholder"
   ]
  },
  {
   "cell_type": "code",
   "execution_count": 23,
   "id": "9577b2f6",
   "metadata": {},
   "outputs": [
    {
     "data": {
      "text/plain": [
       "<function __main__.fact(n)>"
      ]
     },
     "execution_count": 23,
     "metadata": {},
     "output_type": "execute_result"
    }
   ],
   "source": [
    "fact"
   ]
  },
  {
   "cell_type": "code",
   "execution_count": 24,
   "id": "00ce9e5f",
   "metadata": {},
   "outputs": [
    {
     "data": {
      "text/plain": [
       "['strawberry', 'banana', 'fig', 'apple', 'cherry', 'kiwi']"
      ]
     },
     "execution_count": 24,
     "metadata": {},
     "output_type": "execute_result"
    }
   ],
   "source": [
    "fruits = ['strawberry', 'banana', 'fig', 'apple', 'cherry','kiwi']\n",
    "fruits"
   ]
  },
  {
   "cell_type": "code",
   "execution_count": 25,
   "id": "1868fb03",
   "metadata": {},
   "outputs": [
    {
     "data": {
      "text/plain": [
       "['apple', 'banana', 'cherry', 'fig', 'kiwi', 'strawberry']"
      ]
     },
     "execution_count": 25,
     "metadata": {},
     "output_type": "execute_result"
    }
   ],
   "source": [
    "sorted(fruits)"
   ]
  },
  {
   "cell_type": "code",
   "execution_count": 26,
   "id": "49faf93d",
   "metadata": {},
   "outputs": [
    {
     "data": {
      "text/plain": [
       "['fig', 'kiwi', 'apple', 'banana', 'cherry', 'strawberry']"
      ]
     },
     "execution_count": 26,
     "metadata": {},
     "output_type": "execute_result"
    }
   ],
   "source": [
    "sorted(fruits, key=len)"
   ]
  },
  {
   "cell_type": "code",
   "execution_count": 27,
   "id": "b88e8cd8",
   "metadata": {},
   "outputs": [
    {
     "data": {
      "text/plain": [
       "'ecrofselas'"
      ]
     },
     "execution_count": 27,
     "metadata": {},
     "output_type": "execute_result"
    }
   ],
   "source": [
    "'salesforce'[::-1]"
   ]
  },
  {
   "cell_type": "code",
   "execution_count": null,
   "id": "ce3a2ae8",
   "metadata": {},
   "outputs": [],
   "source": []
  }
 ],
 "metadata": {
  "kernelspec": {
   "display_name": "Python 3",
   "language": "python",
   "name": "python3"
  },
  "language_info": {
   "codemirror_mode": {
    "name": "ipython",
    "version": 3
   },
   "file_extension": ".py",
   "mimetype": "text/x-python",
   "name": "python",
   "nbconvert_exporter": "python",
   "pygments_lexer": "ipython3",
   "version": "3.13.1"
  }
 },
 "nbformat": 4,
 "nbformat_minor": 5
}
