{
 "cells": [
  {
   "cell_type": "markdown",
   "id": "7766ff70-7aa5-4152-a839-24d0b5107cf8",
   "metadata": {},
   "source": [
    "# Basic Git for Data Engineers\n",
    "* Resources\n",
    "  * https://git-school.github.io/visualizing-git/"
   ]
  },
  {
   "cell_type": "markdown",
   "id": "d27e78fc-becc-4421-9e11-beb66de711c0",
   "metadata": {},
   "source": [
    "## Create a git repository on Github\n",
    "* you should have a personal Github account\n",
    "* let's log in and follow along"
   ]
  },
  {
   "cell_type": "markdown",
   "id": "6586b2fc-5d06-4d75-bc77-a04636b3883c",
   "metadata": {},
   "source": [
    "## Cloning a repo(sitory)\n",
    "* \"cloning\" means to create a _local_ copy, on your machine\n",
    "* before we do that, we have to set up an ssh key\n",
    "  * go to __`Setting`__ => __`SSH and GPG keys`__\n",
    "  * follow instructions at https://docs.github.com/en/authentication/connecting-to-github-with-ssh/generating-a-new-ssh-key-and-adding-it-to-the-ssh-agent\n",
    "* __`git clone git@github.com:<your github login>/<repo name>.git`__"
   ]
  },
  {
   "cell_type": "markdown",
   "id": "34895268-b6e7-4bb0-acfb-9bee66ad8c00",
   "metadata": {},
   "source": [
    "## The Three Areas\n",
    "![The Three Areas](images/TheThreeAreas.png)"
   ]
  },
  {
   "cell_type": "markdown",
   "id": "997ef9df-ff54-40fb-9b7f-87d254f0a768",
   "metadata": {},
   "source": [
    "## Adding files\n",
    "* adding files means adding files to the index, or \"staging area\"\n",
    "  * think of the index as a place to \"stage\" or prepare files to be committed\n",
    "* __`git add file/dir [file/dir]`__\n",
    "  * can use wildcards\n",
    "* ![What does git add do?](images/Effect-of-git-add.png)"
   ]
  },
  {
   "cell_type": "markdown",
   "id": "aefee1a3-04e7-4d9c-ba14-793b1095b930",
   "metadata": {},
   "source": [
    "## Checking status\n",
    "* __`git status`__ is used to see the contents of the index as well as the working directory\n",
    "* let's try it...\n",
    "  * what does the output tell us?"
   ]
  },
  {
   "cell_type": "markdown",
   "id": "016195df-dc16-4492-8d20-9810b1c9da32",
   "metadata": {},
   "source": [
    "## ignores\n",
    "* sometimes there are files that we don't want to be part of the repo, and therefore we want git to ignore them\n",
    "* to accomplish this, we create a file named __`.gitignore`__ either at the top level or the repo or in a subdirectory\n",
    "* __`.gitignore`__ can include regular expressions (glob), e.g\n",
    " - __`*.pdf`__\n",
    " - __`*.out`__\n",
    " - __`logs/*.log`__\n",
    " - __`tmp/`__\n",
    " - __`/.build`__ (only ignore .build in current dir)\n",
    "* let's try it..."
   ]
  },
  {
   "cell_type": "markdown",
   "id": "e706bb37-ccf3-42f3-b427-4054312bab25",
   "metadata": {},
   "source": [
    "## Committing files\n",
    "* __`git commit`__ \"commits\" the files in the index/staging area to your local repo\n",
    "![What does git add do?](images/Effect-of-git-commit.png)\n",
    "* __`git commit -m`__ allows you to add a message without having to fire up the editor\n",
    "* __`git commit -a`__ lets you skip the index if it doesn't fit with your workflow\n",
    "  * automatically stage every tracked file before doing the commit, i.e., lets you skip __`git add`__"
   ]
  },
  {
   "cell_type": "markdown",
   "id": "cebd4afe",
   "metadata": {},
   "source": [
    "## git log\n",
    "* seeing the history of the repo\n",
    "* many, many options\n",
    "  * I like __`git log --online`__"
   ]
  },
  {
   "cell_type": "markdown",
   "id": "6742c0b4-bdc8-4ba3-9bcd-b52c7c21b173",
   "metadata": {},
   "source": [
    "## Pushing to remote repo\n",
    "* __`git push`__ will share your latest work (i.e., _local_ changes) to the _remote_ repo\n",
    "  * won't work if someone else has pushed to the remote before you such that the the remote repo contains work that you don't have locally\n",
    "  * solution: use __`git pull`__ to integrate those remote changes you don't have, then push again\n",
    "  * let's demonstrate in the __git visualizer__"
   ]
  },
  {
   "cell_type": "code",
   "execution_count": null,
   "id": "ff57c8a8",
   "metadata": {},
   "outputs": [],
   "source": []
  },
  {
   "cell_type": "markdown",
   "id": "fd466462-c057-4a93-888f-eb98e0a2fccd",
   "metadata": {},
   "source": [
    "## Pulling from remote repo (+ rebase)\n",
    "* the problem with the above is that every time you do a __`git pull`__ to incorporate other people's changes, that will show up as a _merge_, and you'll be required to add a message–which will likely be \"adding remote changes\"\n",
    "* there is no need for such merge commits to be in the codebase–incorporating \"upstream\" changes into your local work should be done regularly, i.e., part of your workflow\n",
    "* solution is __`git pull --rebase`__"
   ]
  },
  {
   "cell_type": "code",
   "execution_count": null,
   "id": "f1a030a7-9ede-4999-ac67-7a3fe4b6d521",
   "metadata": {},
   "outputs": [],
   "source": []
  }
 ],
 "metadata": {
  "kernelspec": {
   "display_name": "Python 3 (ipykernel)",
   "language": "python",
   "name": "python3"
  },
  "language_info": {
   "codemirror_mode": {
    "name": "ipython",
    "version": 3
   },
   "file_extension": ".py",
   "mimetype": "text/x-python",
   "name": "python",
   "nbconvert_exporter": "python",
   "pygments_lexer": "ipython3",
   "version": "3.13.1"
  }
 },
 "nbformat": 4,
 "nbformat_minor": 5
}
