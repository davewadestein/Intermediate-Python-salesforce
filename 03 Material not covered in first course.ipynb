{
 "cells": [
  {
   "cell_type": "markdown",
   "id": "d135e6c4-2a7d-47aa-b583-01d95ac7d11b",
   "metadata": {},
   "source": [
    "# Additional material not covered in first course"
   ]
  },
  {
   "cell_type": "markdown",
   "id": "64a4ec97",
   "metadata": {},
   "source": [
    "## List Comprehensions (\"listcomps\")\n",
    "* quick/compact way to build a list\n",
    "* \"more readable\"/faster\n",
    "* which is easier to read?\n",
    "  * your answer will change over time..."
   ]
  },
  {
   "cell_type": "code",
   "execution_count": null,
   "id": "a8c0a127",
   "metadata": {},
   "outputs": [],
   "source": [
    "# suppose we have a list of fruits\n",
    "# rather than typing it in the \"standard\" way, we'll use a Pythonic shortcut\n",
    "fruits = 'apple lemon cherry fig lime watermelon'.split()\n",
    "fruits"
   ]
  },
  {
   "cell_type": "markdown",
   "id": "e38c9812",
   "metadata": {},
   "source": [
    "#### Now suppose we want a \"parallel\" list containing the lengths of each fruit string\n",
    "* first we'll create that list the standard way..."
   ]
  },
  {
   "cell_type": "code",
   "execution_count": null,
   "id": "e4f644f1",
   "metadata": {},
   "outputs": [],
   "source": [
    "fruit_lengths = []\n",
    "\n",
    "for fruit in fruits:\n",
    "    fruit_lengths.append()\n",
    "\n",
    "print(fruit_lengths)"
   ]
  },
  {
   "cell_type": "markdown",
   "id": "5696e30b",
   "metadata": {},
   "source": [
    "* and now with a list comprehension..."
   ]
  },
  {
   "cell_type": "code",
   "execution_count": null,
   "id": "09e03e7d",
   "metadata": {},
   "outputs": [],
   "source": [
    "fruit_lengths = [len(fruit) for fruit in fruits]\n",
    "\n",
    "print(fruit_lengths)"
   ]
  },
  {
   "cell_type": "markdown",
   "id": "7833997e",
   "metadata": {},
   "source": [
    "## List Comprehensions (cont'd)\n",
    "* listcomps can generate a list from the Cartesian product of two or more iterables"
   ]
  },
  {
   "cell_type": "code",
   "execution_count": null,
   "id": "ed68bbf8",
   "metadata": {},
   "outputs": [],
   "source": [
    "colors = ['black', 'white']\n",
    "sizes = ['S', 'M', 'L', 'XL']"
   ]
  },
  {
   "cell_type": "code",
   "execution_count": null,
   "id": "b769dd86",
   "metadata": {},
   "outputs": [],
   "source": [
    "tshirts = [[color, size] for size in sizes\n",
    "                             for color in colors]\n",
    "tshirts"
   ]
  },
  {
   "cell_type": "markdown",
   "id": "7413bbeb",
   "metadata": {},
   "source": [
    "* we can also use list comprehensions to *filter* one list into another"
   ]
  },
  {
   "cell_type": "code",
   "execution_count": null,
   "id": "226bc289",
   "metadata": {},
   "outputs": [],
   "source": [
    "string = 'alphabet soup tastes great!'"
   ]
  },
  {
   "cell_type": "code",
   "execution_count": null,
   "id": "ae3fa467",
   "metadata": {},
   "outputs": [],
   "source": [
    "print(list(string))"
   ]
  },
  {
   "cell_type": "markdown",
   "id": "41876589",
   "metadata": {},
   "source": [
    "#### suppose we wanted to generate a list of all the consonants in a string, discarding vowels and spaces..."
   ]
  },
  {
   "cell_type": "code",
   "execution_count": null,
   "id": "b077532d",
   "metadata": {},
   "outputs": [],
   "source": [
    "consonants = [char for char in string\n",
    "                          if char not in 'aeiou! ']\n",
    "print(consonants)"
   ]
  },
  {
   "cell_type": "markdown",
   "id": "d593e09b",
   "metadata": {},
   "source": [
    "## Lab: List Comprehensions\n",
    "*  Start with Cartesian product example (colors x sizes of t-shirts) and a\n",
    "*  add a third list, __`sleeves = ['short', 'long']`__ then write a new listcomp which generates the Cartesian product __`colors x sizes x sleeves`__. __`tshirts`__ should look like this:<pre><b>\n",
    "    [['black', 'S', 'short'],\n",
    "     ['black', 'S', 'long'],\n",
    "     ['black', 'M', 'short'],\n",
    "     ['black', 'M', 'long'],\n",
    "     ['black', 'L', 'short'],\n",
    "     ['black', 'L', 'long'],\n",
    "     ['white', 'S', 'short'],\n",
    "     ['white', 'S', 'long'],\n",
    "     ['white', 'M', 'short'],\n",
    "     ['white', 'M', 'long'],\n",
    "     ['white', 'L', 'short'],\n",
    "     ['white', 'L', 'long']]\n",
    "     \n",
    " </b></pre>\n",
    "* Use a list comprehension to create a list of the squares of the integers from 1 to 25 (i.e, 1, 4, 9, 16, …, 625)\n",
    "* Given a list of words, create a second list which contains all the words from the first list which do not end with a vowel\n",
    "* Use a list comprehension to create a list of the integers from 1 to 100 which are not divisible by 5\n",
    "* Use a list comprehension and __`zip()`__ to create a list of lists, where the list items are name and ID number that you grabbed from separate lists of names and ID numbers\n",
    "  * start with a list of, say, 5 names ['John', 'Mary', 'Edward', 'Linda', 'Dinesh']\n",
    "  * and a list of, say, 5 ID numbers [1003, 2043, 8762, 7862, 1093]\n",
    "  * additional wrinkle: do not include any names whose corresponding ID is -1"
   ]
  },
  {
   "cell_type": "markdown",
   "id": "7738c6f5",
   "metadata": {},
   "source": [
    "## listcomps recap\n",
    "* keep them short\n",
    "* they are not _list incomprehensions_, so keep them simple\n",
    "* use line breaks since they are ignored inside [] (and (), {}) and you therefore don't need the ugly '\\\\' line continuation character\n",
    "* note that __`for`__ loops do many things (e.g., scan a sequence to count or select items), computing aggregates (sum, averages) or any number of other processing tasks\n",
    "  * in contrast, listcomps do ONE thing–generate lists!"
   ]
  },
  {
   "cell_type": "markdown",
   "id": "4baec396",
   "metadata": {},
   "source": [
    "## Tuples\n",
    "* immutable data type\n",
    "* typically heterogeneous (cf. lists)\n",
    "* generally imply some structure\n",
    " * tuples typically represent a single object, but multiple aspects/attributes of it\n",
    " * if lists are typically used like the __columns__ of a spreadsheet...\n",
    "   * then tuples are typically the __rows__..."
   ]
  },
  {
   "cell_type": "code",
   "execution_count": null,
   "id": "cf7dc84e",
   "metadata": {},
   "outputs": [],
   "source": [
    "t = () # empty tuple (cf. empty list...[])\n",
    "t"
   ]
  },
  {
   "cell_type": "code",
   "execution_count": null,
   "id": "f99bcae0",
   "metadata": {},
   "outputs": [],
   "source": [
    "type(t)"
   ]
  },
  {
   "cell_type": "code",
   "execution_count": null,
   "id": "41c327da",
   "metadata": {},
   "outputs": [],
   "source": [
    "t = (3,) # \"singleton tuple\""
   ]
  },
  {
   "cell_type": "code",
   "execution_count": null,
   "id": "618fb6d7",
   "metadata": {},
   "outputs": [],
   "source": [
    "t"
   ]
  },
  {
   "cell_type": "code",
   "execution_count": null,
   "id": "1fd4e191",
   "metadata": {},
   "outputs": [],
   "source": [
    "t = 'Jones', 'John', 1023, True # no parens\n",
    "t"
   ]
  },
  {
   "cell_type": "code",
   "execution_count": null,
   "id": "fb484a70",
   "metadata": {},
   "outputs": [],
   "source": [
    "# tuple unpacking\n",
    "last_name, first_name, employee_num, full_time = t"
   ]
  },
  {
   "cell_type": "code",
   "execution_count": null,
   "id": "6893f6e7",
   "metadata": {},
   "outputs": [],
   "source": [
    "employee_num # type(employee_num)"
   ]
  },
  {
   "cell_type": "code",
   "execution_count": null,
   "id": "54958e7b",
   "metadata": {},
   "outputs": [],
   "source": [
    "something = input('Enter something: ')\n",
    "as_a_list = something.split() # split() always returns a list\n",
    "as_a_tuple = tuple(as_a_list) # tuple() always returns a tuple"
   ]
  },
  {
   "cell_type": "code",
   "execution_count": null,
   "id": "8a64ba17",
   "metadata": {},
   "outputs": [],
   "source": [
    "print(as_a_list, as_a_tuple, sep='\\n')"
   ]
  },
  {
   "cell_type": "code",
   "execution_count": null,
   "id": "c12ef939",
   "metadata": {},
   "outputs": [],
   "source": [
    "person = 'Sara Breedlove', 1867, 'Louisiana'"
   ]
  },
  {
   "cell_type": "code",
   "execution_count": null,
   "id": "21d37d51",
   "metadata": {},
   "outputs": [],
   "source": [
    "person[-1]"
   ]
  },
  {
   "cell_type": "code",
   "execution_count": null,
   "id": "d6f378c7",
   "metadata": {},
   "outputs": [],
   "source": [
    "person[1] = 1868"
   ]
  },
  {
   "cell_type": "markdown",
   "id": "1959951a-f3d1-413e-945d-435f2b04f4cc",
   "metadata": {},
   "source": [
    "## Lab: Tuples\n",
    "* let's create a simple csv file (see cell below)\n",
    "* the cell after it uses the __`csv`__ module to read the first line from a csv file (more likely we'd use pandas or PySpark, but this is just an example)\n",
    "* technically, the csv reader returns a list of fields, rather than a tuple\n",
    "* here's what I want you to do:\n",
    "  1. make a tuple version of that first line\n",
    "  2. \"Add\" a field to the tuple–since tuples are immutable, you will have to do this by concatenating tuples\n",
    "  3. Using the _in_ operator, check to see if a particular value is in the tuple\n",
    "  4.  Using the __`.index()`__ method, find the position of a particular value in the tuple"
   ]
  },
  {
   "cell_type": "code",
   "execution_count": null,
   "id": "b8ed7377-7434-4139-8679-ed502c689c2f",
   "metadata": {},
   "outputs": [],
   "source": [
    "%%writefile example.csv\n",
    "Alice,30,New York\n",
    "Bob,25,Los Angeles\n",
    "Charlie,35,Chicago"
   ]
  },
  {
   "cell_type": "code",
   "execution_count": null,
   "id": "25a3f967-9393-467c-b715-a441b5b73fd6",
   "metadata": {},
   "outputs": [],
   "source": [
    "import csv\n",
    "\n",
    "with open('example.csv', newline='') as file:\n",
    "    # turns out the CSV reader returns a list not a tuple,\n",
    "    # but we can convert to a tuple and pretend that's what \n",
    "    # was returned in order to see how it might work...\n",
    "    reader = csv.reader(file) \n",
    "    first_line = next(reader)\n",
    "    print(first_line)"
   ]
  },
  {
   "cell_type": "markdown",
   "id": "e818d12d",
   "metadata": {},
   "source": [
    "## Named Tuples\n",
    "* tuples are quite handy, but they are missing a key feature when using them as records–sometimes we want to name the fields\n",
    " * more efficient (i.e., less memory) than dictionaries because instances don't need to contain the keys themselves, as dictionaries do, just the values\n",
    "* __`namedtuple()`__ returns not an individual object but a new class, customized for the given names"
   ]
  },
  {
   "cell_type": "code",
   "execution_count": null,
   "id": "66158c39",
   "metadata": {},
   "outputs": [],
   "source": [
    "from collections import namedtuple\n",
    "Point = namedtuple('Point', 'x y') # create a new type (Point) with 2 fields x, y"
   ]
  },
  {
   "cell_type": "code",
   "execution_count": null,
   "id": "1734fd54",
   "metadata": {},
   "outputs": [],
   "source": [
    "type(Point), type(tuple)"
   ]
  },
  {
   "cell_type": "code",
   "execution_count": null,
   "id": "30ed1f97",
   "metadata": {},
   "outputs": [],
   "source": [
    "# first argument is the name of the tuple class itself\n",
    "# second argument is attribute names as an iterable of strings or a\n",
    "# single space/comma-delimited string\n",
    "point1 = Point(3, -3)\n",
    "print(point1, type(point1), sep='\\n')"
   ]
  },
  {
   "cell_type": "code",
   "execution_count": null,
   "id": "74f11db2",
   "metadata": {},
   "outputs": [],
   "source": [
    "point2 = Point(-3, -2)\n",
    "print(point2)"
   ]
  },
  {
   "cell_type": "code",
   "execution_count": null,
   "id": "d7d50978",
   "metadata": {},
   "outputs": [],
   "source": [
    "print(point1[0], point1[1]) # what we would do if just a tuple"
   ]
  },
  {
   "cell_type": "code",
   "execution_count": null,
   "id": "f3661ef3",
   "metadata": {},
   "outputs": [],
   "source": [
    "print(point1.x, point1.y) # much nicer, because fields are named"
   ]
  },
  {
   "cell_type": "code",
   "execution_count": null,
   "id": "03ebc5ba",
   "metadata": {},
   "outputs": [],
   "source": [
    "from collections import namedtuple\n",
    "City = namedtuple('City', 'name country population coordinates')"
   ]
  },
  {
   "cell_type": "code",
   "execution_count": null,
   "id": "6589fbcd",
   "metadata": {},
   "outputs": [],
   "source": [
    "tokyo = City('Tokyo', 'JP', 36.933, (35.689722, 139.691667))\n",
    "print(tokyo)"
   ]
  },
  {
   "cell_type": "code",
   "execution_count": null,
   "id": "5ed32cf0",
   "metadata": {},
   "outputs": [],
   "source": [
    "print(tokyo.population) # Prefer to use attribute or field names\n",
    "print(tokyo.coordinates)\n",
    "print(tokyo[1]) # use indexing if I wish"
   ]
  },
  {
   "cell_type": "code",
   "execution_count": null,
   "id": "284ee22b",
   "metadata": {},
   "outputs": [],
   "source": [
    "type(City), type(tokyo)"
   ]
  },
  {
   "cell_type": "code",
   "execution_count": null,
   "id": "58f6c127",
   "metadata": {},
   "outputs": [],
   "source": [
    "for field in City._fields: # tuple containing field names\n",
    "    print(field)"
   ]
  },
  {
   "cell_type": "code",
   "execution_count": null,
   "id": "897efa99",
   "metadata": {},
   "outputs": [],
   "source": [
    "LatLong = namedtuple('LatLong', 'lat long')\n",
    "# the below is a regular tuple\n",
    "delhi_data = 'Delhi NCR', 'IN', 21.935, LatLong(28.613889, 77.2098889)"
   ]
  },
  {
   "cell_type": "code",
   "execution_count": null,
   "id": "2a7257b9",
   "metadata": {},
   "outputs": [],
   "source": [
    "delhi = City._make(delhi_data)\n",
    "delhi"
   ]
  },
  {
   "cell_type": "code",
   "execution_count": null,
   "id": "7b98d039",
   "metadata": {},
   "outputs": [],
   "source": [
    "delhi2 = City(*delhi_data)\n",
    "delhi2"
   ]
  },
  {
   "cell_type": "code",
   "execution_count": null,
   "id": "d9b6ee8d",
   "metadata": {},
   "outputs": [],
   "source": [
    "delhi == delhi2"
   ]
  },
  {
   "cell_type": "code",
   "execution_count": null,
   "id": "df5402eb",
   "metadata": {},
   "outputs": [],
   "source": [
    "d = delhi._asdict() # returns an OrderedDict built from named tuple\n",
    "print(d)"
   ]
  },
  {
   "cell_type": "markdown",
   "id": "c7dd7289",
   "metadata": {},
   "source": [
    "## Lab: Named Tuples\n",
    "1. Create a named tuple called __`Card`__ (representing a playing card) which has two fields, __`rank`__ and __`suit`__\n",
    "2. Create a list of __`Card`__, which, when initialized, contains all 52 cards in a deck\n",
    "3. In other words, the list (or deck) should contain  \n",
    "\n",
    "__`[Card(rank=2, suit='clubs'), Card(rank=3, suit='clubs'), Card(rank=4, suit='clubs'), ..., Card(rank='Q', suit='spades'), Card(rank='K', suit='spades'), Card(rank='A', suit='spades')]`__\n",
    "* ranks = 2, 3, 4, ..., 10, J, Q, K, A (strings)\n",
    "* suits = clubs, hearts, diamonds, spades (strings)"
   ]
  },
  {
   "cell_type": "code",
   "execution_count": null,
   "id": "341711bd",
   "metadata": {},
   "outputs": [],
   "source": []
  },
  {
   "cell_type": "markdown",
   "id": "effaf988-f7bb-418f-a84e-61dd72b4f7f7",
   "metadata": {},
   "source": [
    "## Exceptions\n",
    "* errors detected during execution are called exceptions\n",
    "* exceptions are \"thrown\" and either \"caught\" by an exception handler, or propagated upward\n",
    "* \"…exceptions create hidden control-flow paths that are difficult for programmers to reason about\" –Weimer & Necula, \"Exceptional Situations and Program Reliability\"\n",
    "* ...but they are also Pythonic"
   ]
  },
  {
   "cell_type": "code",
   "execution_count": null,
   "id": "e62f3e80-d71d-401f-94f2-d1471a54dbec",
   "metadata": {},
   "outputs": [],
   "source": [
    "mylist = [1, 5, 10]\n",
    "mylist[1]"
   ]
  },
  {
   "cell_type": "code",
   "execution_count": null,
   "id": "55e888f5-ffda-4a87-8664-55ab54ef6ca6",
   "metadata": {},
   "outputs": [],
   "source": [
    "mylist[5]"
   ]
  },
  {
   "cell_type": "code",
   "execution_count": null,
   "id": "8f2aec05-6b9a-4219-8131-b631c89fc204",
   "metadata": {},
   "outputs": [],
   "source": [
    "int('one')"
   ]
  },
  {
   "cell_type": "markdown",
   "id": "d18b1aa5-620b-4af5-b2fc-9d1ab1f66bb0",
   "metadata": {},
   "source": [
    "## Python Builtin Exceptions\n",
    "![Python builtin exceptions](images/exceptions.png)"
   ]
  },
  {
   "cell_type": "markdown",
   "id": "569556c8-fdd9-4ebb-bb13-9814771bf9a7",
   "metadata": {},
   "source": [
    "## Exceptions: __`try/except`__\n",
    "* __`try`__ block wraps code which may throw an exception, and __`except`__ block catches exception"
   ]
  },
  {
   "cell_type": "code",
   "execution_count": null,
   "id": "8c4b61b8-4126-485f-82a0-57a950a02eb5",
   "metadata": {},
   "outputs": [],
   "source": [
    "try:\n",
    "    mylist[5] # could throw an IndexError\n",
    "except:\n",
    "    print('no element at offset 5')\n",
    "    # cleanup, reset, ...\n",
    "\n",
    "print('rest of program')"
   ]
  },
  {
   "cell_type": "markdown",
   "id": "5ace09ac-04a9-439b-a6b3-1d4c9bc86a32",
   "metadata": {},
   "source": [
    "* problem? above example catches ALL exceptions, not just __`IndexError`__ we are expecting\n",
    "* best practice is to catch expected exceptions and let unexpected ones through, so as to avoid hidden errors"
   ]
  },
  {
   "cell_type": "code",
   "execution_count": null,
   "id": "719d8198",
   "metadata": {},
   "outputs": [],
   "source": [
    "try:\n",
    "    print(mylist[1]) # could throw an IndexError\n",
    "    int('a')\n",
    "except IndexError:\n",
    "    print('Bad index! Try again!')\n",
    "except Exception as uhoh: # put the exception into the variable uhoh\n",
    "    print('Some other exception:', uhoh, type(uhoh))"
   ]
  },
  {
   "cell_type": "code",
   "execution_count": null,
   "id": "9cc7c924",
   "metadata": {},
   "outputs": [],
   "source": [
    "short_list = ['zero', 'one', 'two']\n",
    "\n",
    "while (value := input('Enter numeric index [q to quit]? ')) != 'q':\n",
    "    try:\n",
    "        position = int(value) # they could enter a non-int\n",
    "        print(short_list[position]) # fall off the list...\n",
    "    except IndexError:\n",
    "        print('Bad index:', value)\n",
    "    except ValueError:\n",
    "        print(\"Hey that's not a number!\")\n",
    "    except Exception as other:\n",
    "        print('Something else broke:', other, type(other))"
   ]
  },
  {
   "cell_type": "markdown",
   "id": "e6d3849f",
   "metadata": {},
   "source": [
    "## Lab: Exceptions\n",
    "1. write a function to \"int-ify\" a string safely–if the int-ification fails, return __`None`__\n",
    "2. write a function to cover a list of strings into a list of ints\n",
    "   * if the input is, say, __`['1', '3', '0', '12', '8']`__, the output should be __`[1, 3, 0, 12, 8]`__\n",
    "   * if the input contains an item which can't be converted, the result should be -1, e.g,\n",
    "     * input: __`['1', '3', '0', 'x', '9']`__ output: __`[1, 3, 0, -1, 9]`__\n",
    "   * your function may call the function you wrote above, if you wish\n",
    "3. write a function which raises an exception, rather than returning a sentinel value\n",
    "   * use the __`raise`__ keyword in Python to raise an exception\n",
    "   * perhaps a \"withdraw\" function which accepts the amount to withdraw and the current balance as arguments"
   ]
  },
  {
   "cell_type": "markdown",
   "id": "33b7ded3",
   "metadata": {},
   "source": [
    "## Exceptions (cont'd)\n",
    "* important to minimize size of try block\n"
   ]
  },
  {
   "cell_type": "code",
   "execution_count": null,
   "id": "f983fdab",
   "metadata": {},
   "outputs": [],
   "source": [
    "# pseudocode\n",
    "try:\n",
    "    dangerous_call()\n",
    "    after_call() # this can't throw an exception\n",
    "except OS_Error:\n",
    "    log('...')"
   ]
  },
  {
   "cell_type": "markdown",
   "id": "6013fbbb",
   "metadata": {},
   "source": [
    "* __`after_call()`__ will only run if dangerous_call() doesn't throw an exception…So what's the problem?"
   ]
  },
  {
   "cell_type": "code",
   "execution_count": null,
   "id": "716bc912",
   "metadata": {},
   "outputs": [],
   "source": [
    "# pseudocode\n",
    "try:\n",
    "    dangerous_call()\n",
    "except OS_Error:\n",
    "    log('...')\n",
    "else:\n",
    "    after_call() # implied: can't throw an exception"
   ]
  },
  {
   "cell_type": "markdown",
   "id": "f577b843",
   "metadata": {},
   "source": [
    "* now it’s clear that try block is guarding against possible errors in __`dangerous_call()`__, not in __`after_call()`__ it’s also more obvious that __`after_call()`__ will only execute if no exceptions are raised in the try block"
   ]
  },
  {
   "cell_type": "markdown",
   "id": "6785deb1",
   "metadata": {},
   "source": [
    "## __The `finally` Block__\n",
    "* code in the finally block will be executed whether or not an exception is thrown"
   ]
  },
  {
   "cell_type": "code",
   "execution_count": null,
   "id": "6d9ede2f",
   "metadata": {},
   "outputs": [],
   "source": [
    "def func():\n",
    "    try:\n",
    "        i = int(input('\\nEnter a number: ')) # ValueError?\n",
    "        x = 1 / i # ZeroDivisionError?\n",
    "    except ValueError:\n",
    "        print('Not a number!')\n",
    "    except ZeroDivisionError:\n",
    "        print('Cannot divide by 0')\n",
    "        return\n",
    "    else:\n",
    "        print('Everything OK')\n",
    "    finally:\n",
    "        print('FINALLY: DO this either way!')\n",
    "\n",
    "func(), func(), func()"
   ]
  },
  {
   "cell_type": "markdown",
   "id": "4e6fcace-3d08-494f-9f36-6f5d11e435ab",
   "metadata": {},
   "source": [
    "# LBYL vs EAFP programming\n",
    "* the important question–should we check for potential errors or just __`try/except`__ and catch errors?\n",
    "* LBYL = ?\n",
    "* EAFP = ?\n"
   ]
  },
  {
   "cell_type": "code",
   "execution_count": null,
   "id": "f908202d-4a8d-428f-ad3e-8de563fcddcf",
   "metadata": {},
   "outputs": [],
   "source": [
    "my_dict = { 'one': 1 }"
   ]
  },
  {
   "cell_type": "code",
   "execution_count": null,
   "id": "fe165268-3ec9-415c-aa2e-6904dc7277b3",
   "metadata": {},
   "outputs": [],
   "source": [
    "my_dict['one']"
   ]
  },
  {
   "cell_type": "code",
   "execution_count": null,
   "id": "721165b6-385c-429e-8284-4cdeb3a924a9",
   "metadata": {},
   "outputs": [],
   "source": [
    "key = 'something'\n",
    "\n",
    "try:\n",
    "    my_dict[key]\n",
    "except KeyError:\n",
    "    print('bad key:', key)"
   ]
  },
  {
   "cell_type": "markdown",
   "id": "2617cd9f",
   "metadata": {},
   "source": [
    "# Modules\n",
    "* files of Python code which \"expose\" functions, data, and objects"
   ]
  },
  {
   "cell_type": "code",
   "execution_count": null,
   "id": "3cacd7be",
   "metadata": {},
   "outputs": [],
   "source": [
    "some_number = 5\n",
    "dir()"
   ]
  },
  {
   "cell_type": "code",
   "execution_count": null,
   "id": "f68179b2",
   "metadata": {},
   "outputs": [],
   "source": [
    "import math\n",
    "dir()"
   ]
  },
  {
   "cell_type": "code",
   "execution_count": null,
   "id": "d42822a8",
   "metadata": {},
   "outputs": [],
   "source": [
    "dir(math)"
   ]
  },
  {
   "cell_type": "code",
   "execution_count": null,
   "id": "338d91a0",
   "metadata": {},
   "outputs": [],
   "source": [
    "math.sin(math.pi / 2.0)"
   ]
  },
  {
   "cell_type": "code",
   "execution_count": null,
   "id": "ab438584",
   "metadata": {},
   "outputs": [],
   "source": [
    "import new_module\n",
    "dir(new_module)"
   ]
  },
  {
   "cell_type": "code",
   "execution_count": null,
   "id": "a4938eaa",
   "metadata": {},
   "outputs": [],
   "source": [
    "## Let's take a look at the module...\n",
    "%cat new_module.py\n",
    "## better to look at it in the editor"
   ]
  },
  {
   "cell_type": "code",
   "execution_count": null,
   "id": "07564270",
   "metadata": {},
   "outputs": [],
   "source": [
    "print(new_module.func1())"
   ]
  },
  {
   "cell_type": "code",
   "execution_count": null,
   "id": "1d991e0c",
   "metadata": {},
   "outputs": [],
   "source": [
    "new_module.func2(3)"
   ]
  },
  {
   "cell_type": "code",
   "execution_count": null,
   "id": "8d75dc9a",
   "metadata": {},
   "outputs": [],
   "source": [
    "new_module.func3(150, 200, 50)"
   ]
  },
  {
   "cell_type": "markdown",
   "id": "76a6c2c6",
   "metadata": {},
   "source": [
    "## Two Ways to Import Modules\n",
    "* __`import module`__\n",
    "* __`from module import something`__\n",
    "\n",
    "* imported stuff can be renamed\n",
    "<pre><b>\n",
    "import numpy as np\n",
    "import pandas as pd\n",
    "from string import punctuation as string_punct\n",
    "</b></pre>"
   ]
  },
  {
   "cell_type": "markdown",
   "id": "65f3beb1",
   "metadata": {},
   "source": [
    "## Modules: from vs. import\n",
    "* __`import ...`__ imports the module and you can access all objects inside the module using the __`module.`__ syntax\n",
    "* __`from ...`__ imports only the identifiers you request, not the entire module\n",
    "  * you do not preface those identifiers with the module name when you refer to them\n",
    "  * best practice–only do this _inside_ a function"
   ]
  },
  {
   "cell_type": "code",
   "execution_count": null,
   "id": "f9732913",
   "metadata": {},
   "outputs": [],
   "source": [
    "def point_on_circle(radius, angle_degrees):\n",
    "    \"\"\"Return (x, y) coordinates of a point on a circle\n",
    "\n",
    "    Arguments:\n",
    "    radius = the radius \n",
    "    angle_degrees = angle in degrees\n",
    "    \"\"\"\n",
    "    from math import cos, sin, radians\n",
    "    \n",
    "    angle_radians = radians(angle_degrees)  # or angle_degrees * math.pi / 180\n",
    "    x = radius * cos(angle_radians)\n",
    "    y = radius * sin(angle_radians)\n",
    "    \n",
    "    return (x, y)"
   ]
  },
  {
   "cell_type": "code",
   "execution_count": null,
   "id": "22ed1af0",
   "metadata": {},
   "outputs": [],
   "source": [
    "point_on_circle(1.0, 180)"
   ]
  },
  {
   "cell_type": "markdown",
   "id": "4730f03b",
   "metadata": {},
   "source": [
    "# Lab: Modules\n",
    "* take the function(s) you wrote previously and put them in a module\n",
    "  * that is, put them in their own file called __`my_functions.py`__ or whatever name you choose\n",
    "    * the filename must end in __`.py`__, because a module is a Python file\n",
    "    * keep the module in this current folder to make things easier\n",
    "* add a __`__name__ == '__main__'`__ stanza and add some tests"
   ]
  }
 ],
 "metadata": {
  "kernelspec": {
   "display_name": "Python 3 (ipykernel)",
   "language": "python",
   "name": "python3"
  },
  "language_info": {
   "codemirror_mode": {
    "name": "ipython",
    "version": 3
   },
   "file_extension": ".py",
   "mimetype": "text/x-python",
   "name": "python",
   "nbconvert_exporter": "python",
   "pygments_lexer": "ipython3",
   "version": "3.13.1"
  }
 },
 "nbformat": 4,
 "nbformat_minor": 5
}
