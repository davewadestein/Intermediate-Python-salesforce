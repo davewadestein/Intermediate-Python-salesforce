{
 "cells": [
  {
   "cell_type": "markdown",
   "id": "a308460a",
   "metadata": {},
   "source": [
    "# Loguru\n",
    "* a modern alternative to Python's built-in logging module\n",
    "* gives us:\n",
    "  * a single, pre-configured logger—no need to set up handlers, formatters, or filters manually\n",
    "  * just install and import it!"
   ]
  },
  {
   "cell_type": "code",
   "execution_count": null,
   "id": "e358ffba",
   "metadata": {},
   "outputs": [],
   "source": [
    "!pip3 install loguru"
   ]
  },
  {
   "cell_type": "code",
   "execution_count": null,
   "id": "990f50e4",
   "metadata": {},
   "outputs": [],
   "source": [
    "from loguru import logger\n",
    "\n",
    "logger.info(\"Hello, world!\")"
   ]
  },
  {
   "cell_type": "markdown",
   "id": "4f1cceb8",
   "metadata": {},
   "source": [
    "* I was saying...\n",
    "  * clean and colorful console output, customizable with curly-brace formatting (via str.format() style) \n",
    "* automatic log file management: supports rotation, retention, compression, and even watching changes \n",
    "* safety features: thread-safe, async and multiprocessing support\n",
    "* onvenient exception tracing with __`logger.catch()`__ to capture stack traces, context, and even format exception groups\n",
    "* structured logging support: can log in JSON format, making it easier to consume by log aggregation tools (e.g., Splunk)\n",
    "* easy integration: works with standard logging via intercept tools or third-party integrations like Sentry"
   ]
  },
  {
   "cell_type": "code",
   "execution_count": null,
   "id": "28e0c78c",
   "metadata": {},
   "outputs": [],
   "source": [
    "from loguru import logger\n",
    "some_value = 42 # some value you want to log\n",
    "logger.info(\"App started\")\n",
    "logger.debug(\"Debugging value: {}\", some_value)\n",
    "# add a \"sink\", i.e., a destination for logging\n",
    "logger.add(\"app.log\", rotation=\"500 MB\", retention=\"10 days\", compression=\"zip\")"
   ]
  },
  {
   "cell_type": "markdown",
   "id": "071f60c2",
   "metadata": {},
   "source": []
  },
  {
   "cell_type": "markdown",
   "id": "28df4b1b",
   "metadata": {},
   "source": [
    "## Catching exceptions"
   ]
  },
  {
   "cell_type": "code",
   "execution_count": null,
   "id": "480b3a48",
   "metadata": {},
   "outputs": [],
   "source": [
    "# better to do this in a separate file, outside of the notebook\n",
    "\n",
    "@logger.catch\n",
    "def divide(numerator, denominator):\n",
    "    return numerator / denominator\n",
    "\n",
    "divide(3, 0)"
   ]
  },
  {
   "cell_type": "markdown",
   "id": "e802c3ad",
   "metadata": {},
   "source": [
    "## Structured logging"
   ]
  },
  {
   "cell_type": "code",
   "execution_count": null,
   "id": "e66bb31a",
   "metadata": {},
   "outputs": [],
   "source": [
    "# we can output log info as JSON (something we'll learn next)\n",
    "logger.add(\"out.json\", serialize=True)\n",
    "logger.info(\"user_login\", user=\"alice\", status=\"success\")\n",
    "# let's look at the log output outside of Jupyter (easier to format)"
   ]
  },
  {
   "cell_type": "markdown",
   "id": "b4b56906",
   "metadata": {},
   "source": [
    "### Lab: Loguru\n",
    "* demonstrate log rotation\n",
    "  * add a sink that writes to \"rotate.log\"\n",
    "  * set rotation to \"100 KB\"\n",
    "  * log a few thousand messages in a loop to trigger rotation"
   ]
  },
  {
   "cell_type": "code",
   "execution_count": null,
   "id": "c4ba1b6b",
   "metadata": {},
   "outputs": [],
   "source": []
  },
  {
   "cell_type": "markdown",
   "id": "418f8265",
   "metadata": {},
   "source": [
    "* temporarily \"pause\" logging by\n",
    "  1. removing the sink with __`logger.remove()`__\n",
    "  2. make some logging calls\n",
    "  3. reinstitute the sink with __`logger.add()`__\n",
    "  4. ...ensure that the \"paused\" logging calls did not go to the sink"
   ]
  },
  {
   "cell_type": "code",
   "execution_count": null,
   "id": "0d01467e",
   "metadata": {},
   "outputs": [],
   "source": []
  },
  {
   "cell_type": "markdown",
   "id": "a6e8be53",
   "metadata": {},
   "source": [
    "* log the length of a list using a variable and Loguru’s __`{}`__-style formatting\n",
    "  * (any {}'s inside the log string will be replaced by variables/expressions that follow the string)\n",
    "  * if unclear, look up Loguru's __`{}`__-style formatting"
   ]
  },
  {
   "cell_type": "code",
   "execution_count": null,
   "id": "52d279f8",
   "metadata": {},
   "outputs": [],
   "source": []
  },
  {
   "cell_type": "markdown",
   "id": "6018e023",
   "metadata": {},
   "source": [
    "# IceCream\n",
    "* a lightweight tool for debugging\n",
    "* great for quickly printing out variables and expressions while showing both the expression itself and its value\n",
    "* great if you don't full on logging"
   ]
  },
  {
   "cell_type": "code",
   "execution_count": null,
   "id": "98b69e8c",
   "metadata": {},
   "outputs": [],
   "source": [
    "!pip3 install icecream"
   ]
  },
  {
   "cell_type": "code",
   "execution_count": null,
   "id": "7386cd92",
   "metadata": {},
   "outputs": [],
   "source": [
    "from icecream import ic\n",
    "\n",
    "number = 42\n",
    "ic(number)\n"
   ]
  },
  {
   "cell_type": "code",
   "execution_count": null,
   "id": "85694e31",
   "metadata": {},
   "outputs": [],
   "source": [
    "ic(number * 2)"
   ]
  },
  {
   "cell_type": "code",
   "execution_count": null,
   "id": "89c561f7",
   "metadata": {},
   "outputs": [],
   "source": [
    "name = 'Dave'\n",
    "ic(number, name)"
   ]
  },
  {
   "cell_type": "code",
   "execution_count": null,
   "id": "fe10895f",
   "metadata": {},
   "outputs": [],
   "source": [
    "def square(n):\n",
    "    ic(n)\n",
    "    return n * n\n",
    "\n",
    "square(4)"
   ]
  },
  {
   "cell_type": "markdown",
   "id": "9961924e",
   "metadata": {},
   "source": [
    "## Disable / Enable Output\n",
    "* keep ic() calls in your code but silence them as needed"
   ]
  },
  {
   "cell_type": "code",
   "execution_count": null,
   "id": "6ddcb53d",
   "metadata": {},
   "outputs": [],
   "source": [
    "ic.disable()\n",
    "ic(\"won't show\")\n",
    "\n",
    "ic.enable()\n",
    "ic(\"will show\")"
   ]
  },
  {
   "cell_type": "markdown",
   "id": "75efe93f",
   "metadata": {},
   "source": [
    "## Custom Prefix"
   ]
  },
  {
   "cell_type": "code",
   "execution_count": null,
   "id": "77d331bd",
   "metadata": {},
   "outputs": [],
   "source": [
    "ic.configureOutput(prefix='DEBUG | ')\n",
    "ic(number % 2)"
   ]
  },
  {
   "cell_type": "markdown",
   "id": "8e503370",
   "metadata": {},
   "source": []
  }
 ],
 "metadata": {
  "kernelspec": {
   "display_name": "Python 3",
   "language": "python",
   "name": "python3"
  },
  "language_info": {
   "codemirror_mode": {
    "name": "ipython",
    "version": 3
   },
   "file_extension": ".py",
   "mimetype": "text/x-python",
   "name": "python",
   "nbconvert_exporter": "python",
   "pygments_lexer": "ipython3",
   "version": "3.13.1"
  }
 },
 "nbformat": 4,
 "nbformat_minor": 5
}
