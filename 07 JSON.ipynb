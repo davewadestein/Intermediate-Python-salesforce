{
 "cells": [
  {
   "cell_type": "markdown",
   "id": "e708ede6-9ea6-4504-81f6-f2e05ae3984e",
   "metadata": {},
   "source": [
    "# JSON (JavaScript Object Notation)\n",
    "* a lightweight, human-readable data format for storing and exchanging data\n",
    "  * especially between a client and a server, or between programs written in different languages"
   ]
  },
  {
   "cell_type": "markdown",
   "id": "9e0f3105-8198-40e5-b560-e27b0c055f8d",
   "metadata": {},
   "source": [
    "## JSON objects are like Python dicts\n",
    "<pre><b>\n",
    "{\n",
    "  \"name\": \"Alice\",\n",
    "  \"age\": 30,\n",
    "  \"is_admin\": false\n",
    "}\n",
    "</pre></b>"
   ]
  },
  {
   "cell_type": "markdown",
   "id": "dc196d27-6cec-4d37-a4ef-6a55eb57c40d",
   "metadata": {},
   "source": [
    "## JSON Arrays are like Python lists\n",
    "<pre><b>\n",
    "[\"apple\", \"banana\", \"cherry\"]\n",
    "</pre></b>"
   ]
  },
  {
   "cell_type": "markdown",
   "id": "74661830-0b33-43e7-bbc4-466a2654597e",
   "metadata": {},
   "source": [
    "## JSON Values\n",
    "* string\n",
    "* number\n",
    "* boolean\n",
    "* null\n",
    "* object\n",
    "* array"
   ]
  },
  {
   "cell_type": "markdown",
   "id": "d92064bc-87c6-4005-9d55-e9f49a39d49d",
   "metadata": {},
   "source": [
    "## JSON vs. Python\n",
    "| JSON    | Python      |\n",
    "| ------- | ----------- |\n",
    "| `true`  | `True`      |\n",
    "| `false` | `False`     |\n",
    "| `null`  | `None`      |\n",
    "| `{}`    | `dict`      |\n",
    "| `[]`    | `list`      |\n",
    "| Numbers | `int/float` |\n",
    "| Strings | `str`       |"
   ]
  },
  {
   "cell_type": "markdown",
   "id": "f6e2b92e-54ff-408b-a5d1-aa379d860347",
   "metadata": {},
   "source": [
    "## Common Use Cases\n",
    "\n",
    "* Web APIs (requests/responses)\n",
    "* Config files (.json)\n",
    "* Storing data structures (e.g., in logs or save files)\n",
    "* Interfacing with JavaScript (which natively uses JSON)"
   ]
  },
  {
   "cell_type": "markdown",
   "id": "844ca7d1-bca9-4604-ae32-d5884c615c57",
   "metadata": {},
   "source": [
    "## JSON Limitations\n",
    "* No support for:\n",
    "  * Tuples\n",
    "  * Sets\n",
    "  * Complex numbers\n",
    "  * Custom Python objects\n",
    "  * Keys in JSON objects must be strings\n",
    "  * Limited precision for large floats/ints"
   ]
  },
  {
   "cell_type": "code",
   "execution_count": 12,
   "id": "5b6a1b70-049b-4b9c-b28f-9e7a1ec6dfc4",
   "metadata": {},
   "outputs": [
    {
     "data": {
      "text/plain": [
       "{'colors': [{'color': 'black',\n",
       "   'category': 'hue',\n",
       "   'type': 'primary',\n",
       "   'code': {'rgba': [255, 255, 255, 1], 'hex': '#000'}},\n",
       "  {'color': 'white',\n",
       "   'category': 'value',\n",
       "   'code': {'rgba': [0, 0, 0, 1], 'hex': '#FFF'}},\n",
       "  {'color': 'red',\n",
       "   'category': 'hue',\n",
       "   'type': 'primary',\n",
       "   'code': {'rgba': [255, 0, 0, 1], 'hex': '#FF0'}},\n",
       "  {'color': 'blue',\n",
       "   'category': 'hue',\n",
       "   'type': 'primary',\n",
       "   'code': {'rgba': [0, 0, 255, 1], 'hex': '#00F'}},\n",
       "  {'color': 'yellow',\n",
       "   'category': 'hue',\n",
       "   'type': 'primary',\n",
       "   'code': {'rgba': [255, 255, 0, 1], 'hex': '#FF0'}},\n",
       "  {'color': 'green',\n",
       "   'category': 'hue',\n",
       "   'type': 'secondary',\n",
       "   'code': {'rgba': [0, 255, 0, 1], 'hex': '#0F0'}}]}"
      ]
     },
     "execution_count": 12,
     "metadata": {},
     "output_type": "execute_result"
    }
   ],
   "source": [
    "# Reading JSON from a file\n",
    "import json\n",
    "\n",
    "# From a file\n",
    "with open(\"colors.json\") as f:\n",
    "    data = json.load(f)\n",
    "\n",
    "data"
   ]
  },
  {
   "cell_type": "code",
   "execution_count": 16,
   "id": "a9c75026-21a8-4bf9-bb31-2a17c7b513f4",
   "metadata": {},
   "outputs": [
    {
     "name": "stdout",
     "output_type": "stream",
     "text": [
      "{\n",
      "  \"colors\": [\n",
      "    {\n",
      "      \"color\": \"black\",\n",
      "      \"category\": \"hue\",\n",
      "      \"type\": \"primary\",\n",
      "      \"code\": {\n",
      "        \"rgba\": [\n",
      "          255,\n",
      "          255,\n",
      "          255,\n",
      "          1\n",
      "        ],\n",
      "        \"hex\": \"#000\"\n",
      "      }\n",
      "    },\n",
      "    {\n",
      "      \"color\": \"white\",\n",
      "      \"category\": \"value\",\n",
      "      \"code\": {\n",
      "        \"rgba\": [\n",
      "          0,\n",
      "          0,\n",
      "          0,\n",
      "          1\n",
      "        ],\n",
      "        \"hex\": \"#FFF\"\n",
      "      }\n",
      "    },\n",
      "    {\n",
      "      \"color\": \"red\",\n",
      "      \"category\": \"hue\",\n",
      "      \"type\": \"primary\",\n",
      "      \"code\": {\n",
      "        \"rgba\": [\n",
      "          255,\n",
      "          0,\n",
      "          0,\n",
      "          1\n",
      "        ],\n",
      "        \"hex\": \"#FF0\"\n",
      "      }\n",
      "    },\n",
      "    {\n",
      "      \"color\": \"blue\",\n",
      "      \"category\": \"hue\",\n",
      "      \"type\": \"primary\",\n",
      "      \"code\": {\n",
      "        \"rgba\": [\n",
      "          0,\n",
      "          0,\n",
      "          255,\n",
      "          1\n",
      "        ],\n",
      "        \"hex\": \"#00F\"\n",
      "      }\n",
      "    },\n",
      "    {\n",
      "      \"color\": \"yellow\",\n",
      "      \"category\": \"hue\",\n",
      "      \"type\": \"primary\",\n",
      "      \"code\": {\n",
      "        \"rgba\": [\n",
      "          255,\n",
      "          255,\n",
      "          0,\n",
      "          1\n",
      "        ],\n",
      "        \"hex\": \"#FF0\"\n",
      "      }\n",
      "    },\n",
      "    {\n",
      "      \"color\": \"green\",\n",
      "      \"category\": \"hue\",\n",
      "      \"type\": \"secondary\",\n",
      "      \"code\": {\n",
      "        \"rgba\": [\n",
      "          0,\n",
      "          255,\n",
      "          0,\n",
      "          1\n",
      "        ],\n",
      "        \"hex\": \"#0F0\"\n",
      "      }\n",
      "    }\n",
      "  ]\n",
      "}\n"
     ]
    }
   ],
   "source": [
    "print(json.dumps(data, indent=2)) # better to use .dumps to format JSON output"
   ]
  },
  {
   "cell_type": "code",
   "execution_count": 18,
   "id": "1df8862f-5509-438e-98e3-3afbd9fb13af",
   "metadata": {},
   "outputs": [
    {
     "data": {
      "text/plain": [
       "{'x': 1, 'y': 2}"
      ]
     },
     "execution_count": 18,
     "metadata": {},
     "output_type": "execute_result"
    }
   ],
   "source": [
    "# Reading JSON from a string\n",
    "data = json.loads('{\"x\": 1, \"y\": 2}')\n",
    "data"
   ]
  },
  {
   "cell_type": "code",
   "execution_count": 22,
   "id": "8c724444-c144-4698-b5ba-6f2d7071c844",
   "metadata": {},
   "outputs": [],
   "source": [
    "# Python dict\n",
    "data = {\n",
    "    \"name\": \"Alice\",\n",
    "    \"age\": 30,\n",
    "    \"is_active\": True,\n",
    "    \"skills\": [\"Python\", \"Data Science\", \"Machine Learning\"],\n",
    "    \"address\": {\n",
    "        \"city\": \"Wonderland\",\n",
    "        \"zip\": \"12345\"\n",
    "    }\n",
    "}"
   ]
  },
  {
   "cell_type": "code",
   "execution_count": 23,
   "id": "98ad3a90-bc4c-4099-b2bb-805c31fff6fb",
   "metadata": {},
   "outputs": [],
   "source": [
    "# dump it out to a file as JSON...\n",
    "with open(\"sample.json\", \"w\") as f:\n",
    "    json.dump(data, f, indent=4)"
   ]
  },
  {
   "cell_type": "code",
   "execution_count": 24,
   "id": "3887167a-6220-4702-a8f6-f0e2595aab64",
   "metadata": {},
   "outputs": [
    {
     "name": "stdout",
     "output_type": "stream",
     "text": [
      "{\n",
      "    \"name\": \"Alice\",\n",
      "    \"age\": 30,\n",
      "    \"is_active\": true,\n",
      "    \"skills\": [\n",
      "        \"Python\",\n",
      "        \"Data Science\",\n",
      "        \"Machine Learning\"\n",
      "    ],\n",
      "    \"address\": {\n",
      "        \"city\": \"Wonderland\",\n",
      "        \"zip\": \"12345\"\n",
      "    }\n",
      "}"
     ]
    }
   ],
   "source": [
    "%cat sample.json"
   ]
  },
  {
   "cell_type": "code",
   "execution_count": 27,
   "id": "151a7afe-8f48-4470-8737-0a10f615b34e",
   "metadata": {},
   "outputs": [
    {
     "name": "stdout",
     "output_type": "stream",
     "text": [
      "{\n",
      "    \"name\": \"Alice\",\n",
      "    \"age\": 30,\n",
      "    \"is_active\": true,\n",
      "    \"skills\": [\n",
      "        \"Python\",\n",
      "        \"Data Science\",\n",
      "        \"Machine Learning\"\n",
      "    ],\n",
      "    \"address\": {\n",
      "        \"city\": \"Wonderland\",\n",
      "        \"zip\": \"12345\"\n",
      "    }\n",
      "}\n"
     ]
    }
   ],
   "source": [
    "with open(\"sample.json\", \"r\") as f:\n",
    "    loaded_data = json.load(f)\n",
    "\n",
    "print(json.dumps(loaded_data, indent=4))"
   ]
  },
  {
   "cell_type": "code",
   "execution_count": 34,
   "id": "d8b54e31-2fa2-4657-a633-9ad109637fe6",
   "metadata": {},
   "outputs": [
    {
     "name": "stdout",
     "output_type": "stream",
     "text": [
      "{\n",
      "    \"name\": \"Bob\",\n",
      "    \"age\": 25,\n",
      "    \"is_active\": false\n",
      "}\n"
     ]
    }
   ],
   "source": [
    "json_string = '{\"name\": \"Bob\", \"age\": 25, \"is_active\": false}'\n",
    "parsed = json.loads(json_string)\n",
    "print(json.dumps(parsed, indent=4))"
   ]
  },
  {
   "cell_type": "markdown",
   "id": "a8c62fb8-47eb-4bb6-8b32-4f5317b0b35d",
   "metadata": {},
   "source": [
    "## Working with a JSON Array (List of Records)"
   ]
  },
  {
   "cell_type": "code",
   "execution_count": null,
   "id": "8b624a46-fd21-441a-9de3-c1f44899752b",
   "metadata": {},
   "outputs": [],
   "source": [
    "users = [\n",
    "    {\"id\": 1, \"name\": \"Alice\", \"email\": \"alice@example.com\"},\n",
    "    {\"id\": 2, \"name\": \"Bob\", \"email\": \"bob@example.com\"},\n",
    "    {\"id\": 3, \"name\": \"Carol\", \"email\": \"carol@example.com\"}\n",
    "]"
   ]
  },
  {
   "cell_type": "code",
   "execution_count": null,
   "id": "2ba1c302-b5d0-4259-99bc-0424e1025bb4",
   "metadata": {},
   "outputs": [],
   "source": [
    "import json\n",
    "\n",
    "with open(\"users.json\", \"w\") as f:\n",
    "    json.dump(users, f, indent=4)"
   ]
  },
  {
   "cell_type": "code",
   "execution_count": null,
   "id": "526aceb3-9f55-493c-b01c-352dd4da29aa",
   "metadata": {},
   "outputs": [],
   "source": [
    "%cat users.json"
   ]
  },
  {
   "cell_type": "code",
   "execution_count": null,
   "id": "d27905a0-04d3-47b2-be64-59b53de0eca4",
   "metadata": {},
   "outputs": [],
   "source": [
    "with open(\"users.json\", \"r\") as f:\n",
    "    loaded_users = json.load(f)\n",
    "\n",
    "for user in loaded_users:\n",
    "    print(f\"{user['id']} - {user['name']} ({user['email']})\")"
   ]
  },
  {
   "cell_type": "markdown",
   "id": "de37c520-2f2e-4f2e-91fa-5e44550bd741",
   "metadata": {},
   "source": [
    "## Read JSON from a Remote API (e.g. Public JSON API)"
   ]
  },
  {
   "cell_type": "code",
   "execution_count": null,
   "id": "8d04c506-8ce6-4758-89b8-9ed1e166a3c5",
   "metadata": {},
   "outputs": [],
   "source": [
    "# install requests modules for communicating with APIs\n",
    "!pip3 install requests"
   ]
  },
  {
   "cell_type": "code",
   "execution_count": 1,
   "id": "f3eb1fb0-9f42-43d5-8030-04de04cb5876",
   "metadata": {},
   "outputs": [
    {
     "name": "stdout",
     "output_type": "stream",
     "text": [
      "Leanne Graham\n",
      "Ervin Howell\n",
      "Clementine Bauch\n",
      "Patricia Lebsack\n",
      "Chelsey Dietrich\n",
      "Mrs. Dennis Schulist\n",
      "Kurtis Weissnat\n",
      "Nicholas Runolfsdottir V\n",
      "Glenna Reichert\n",
      "Clementina DuBuque\n"
     ]
    },
    {
     "name": "stderr",
     "output_type": "stream",
     "text": [
      "/Library/Frameworks/Python.framework/Versions/3.13/lib/python3.13/site-packages/urllib3/connectionpool.py:1097: InsecureRequestWarning: Unverified HTTPS request is being made to host 'jsonplaceholder.typicode.com'. Adding certificate verification is strongly advised. See: https://urllib3.readthedocs.io/en/latest/advanced-usage.html#tls-warnings\n",
      "  warnings.warn(\n"
     ]
    }
   ],
   "source": [
    "import requests\n",
    "#import urllib3\n",
    "\n",
    "#urllib3.disable_warnings(urllib3.exceptions.InsecureRequestWarning) # not secure–do not use for production\n",
    "\n",
    "response = requests.get(\"https://jsonplaceholder.typicode.com/users\", verify=False) # not sure-ditto!\n",
    "users_api = response.json()\n",
    "\n",
    "# Print just the names\n",
    "for user in users_api:\n",
    "    print(user[\"name\"])"
   ]
  },
  {
   "cell_type": "code",
   "execution_count": 2,
   "id": "af133e33-88c8-4868-9526-2a8977da168b",
   "metadata": {},
   "outputs": [
    {
     "name": "stdout",
     "output_type": "stream",
     "text": [
      "\n",
      "{\n",
      "  \"colors\": [\n",
      "    {\n",
      "      \"color\": \"black\",\n",
      "      \"category\": \"hue\",\n",
      "      \"type\": \"primary\",\n",
      "      \"code\": {\n",
      "        \"rgba\": [255,255,255,1],\n",
      "        \"hex\": \"#000\"\n",
      "      }\n",
      "    },\n",
      "    {\n",
      "      \"color\": \"white\",\n",
      "      \"category\": \"value\",\n",
      "      \"code\": {\n",
      "        \"rgba\": [0,0,0,1],\n",
      "        \"hex\": \"#FFF\"\n",
      "      }\n",
      "    },\n",
      "    {\n",
      "      \"color\": \"red\",\n",
      "      \"category\": \"hue\",\n",
      "      \"type\": \"primary\",\n",
      "      \"code\": {\n",
      "        \"rgba\": [255,0,0,1],\n",
      "        \"hex\": \"#FF0\"\n",
      "      }\n",
      "    },\n",
      "    {\n",
      "      \"color\": \"blue\",\n",
      "      \"category\": \"hue\",\n",
      "      \"type\": \"primary\",\n",
      "      \"code\": {\n",
      "        \"rgba\": [0,0,255,1],\n",
      "        \"hex\": \"#00F\"\n",
      "      }\n",
      "    },\n",
      "    {\n",
      "      \"color\": \"yellow\",\n",
      "      \"category\": \"hue\",\n",
      "      \"type\": \"primary\",\n",
      "      \"code\": {\n",
      "        \"rgba\": [255,255,0,1],\n",
      "        \"hex\": \"#FF0\"\n",
      "      }\n",
      "    },\n",
      "    {\n",
      "      \"color\": \"green\",\n",
      "      \"category\": \"hue\",\n",
      "      \"type\": \"secondary\",\n",
      "      \"code\": {\n",
      "        \"rgba\": [0,255,0,1],\n",
      "        \"hex\": \"#0F0\"\n",
      "      }\n",
      "    }\n",
      "  ]\n",
      "}\n"
     ]
    }
   ],
   "source": [
    "%cat colors.json"
   ]
  },
  {
   "cell_type": "code",
   "execution_count": 35,
   "id": "d0105a43-3ead-483a-99a3-a5ff18f87d55",
   "metadata": {},
   "outputs": [],
   "source": [
    "# need to add exercises"
   ]
  },
  {
   "cell_type": "code",
   "execution_count": 36,
   "id": "d2f05fe1-40c2-4bd7-a182-a3b44a85d877",
   "metadata": {},
   "outputs": [],
   "source": [
    "# complex, nested JSON?"
   ]
  },
  {
   "cell_type": "code",
   "execution_count": null,
   "id": "2548b626-588d-418a-836f-277720904dcf",
   "metadata": {},
   "outputs": [],
   "source": []
  }
 ],
 "metadata": {
  "kernelspec": {
   "display_name": "Python 3 (ipykernel)",
   "language": "python",
   "name": "python3"
  },
  "language_info": {
   "codemirror_mode": {
    "name": "ipython",
    "version": 3
   },
   "file_extension": ".py",
   "mimetype": "text/x-python",
   "name": "python",
   "nbconvert_exporter": "python",
   "pygments_lexer": "ipython3",
   "version": "3.13.1"
  }
 },
 "nbformat": 4,
 "nbformat_minor": 5
}
