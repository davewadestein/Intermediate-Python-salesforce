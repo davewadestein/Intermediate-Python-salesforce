{
 "cells": [
  {
   "cell_type": "markdown",
   "id": "e708ede6-9ea6-4504-81f6-f2e05ae3984e",
   "metadata": {},
   "source": [
    "# JSON (JavaScript Object Notation)\n",
    "* a lightweight, human-readable data format for storing and exchanging data\n",
    "  * especially between a client and a server, or between programs written in different languages"
   ]
  },
  {
   "cell_type": "markdown",
   "id": "9e0f3105-8198-40e5-b560-e27b0c055f8d",
   "metadata": {},
   "source": [
    "## JSON objects are like Python dicts\n",
    "<pre><b>\n",
    "{\n",
    "  \"name\": \"Alice\",\n",
    "  \"age\": 30,\n",
    "  \"is_admin\": false\n",
    "}\n",
    "</pre></b>"
   ]
  },
  {
   "cell_type": "markdown",
   "id": "dc196d27-6cec-4d37-a4ef-6a55eb57c40d",
   "metadata": {},
   "source": [
    "## JSON Arrays are like Python lists\n",
    "<pre><b>\n",
    "[\"apple\", \"banana\", \"cherry\"]\n",
    "</pre></b>"
   ]
  },
  {
   "cell_type": "markdown",
   "id": "74661830-0b33-43e7-bbc4-466a2654597e",
   "metadata": {},
   "source": [
    "## JSON Values\n",
    "* string\n",
    "* number\n",
    "* boolean\n",
    "* null\n",
    "* object\n",
    "* array"
   ]
  },
  {
   "cell_type": "markdown",
   "id": "d92064bc-87c6-4005-9d55-e9f49a39d49d",
   "metadata": {},
   "source": [
    "## JSON vs. Python\n",
    "| JSON    | Python      |\n",
    "| ------- | ----------- |\n",
    "| `true`  | `True`      |\n",
    "| `false` | `False`     |\n",
    "| `null`  | `None`      |\n",
    "| `{}`    | `dict`      |\n",
    "| `[]`    | `list`      |\n",
    "| Numbers | `int/float` |\n",
    "| Strings | `str`       |"
   ]
  },
  {
   "cell_type": "markdown",
   "id": "f6e2b92e-54ff-408b-a5d1-aa379d860347",
   "metadata": {},
   "source": [
    "## Common Use Cases\n",
    "\n",
    "* Web APIs (requests/responses)\n",
    "* Config files (.json)\n",
    "* Storing data structures (e.g., in logs or save files)\n",
    "* Interfacing with JavaScript (which natively uses JSON)"
   ]
  },
  {
   "cell_type": "markdown",
   "id": "844ca7d1-bca9-4604-ae32-d5884c615c57",
   "metadata": {},
   "source": [
    "## JSON Limitations\n",
    "* No support for:\n",
    "  * Tuples\n",
    "  * Sets\n",
    "  * Complex numbers\n",
    "  * Custom Python objects\n",
    "  * Keys in JSON objects must be strings\n",
    "  * Limited precision for large floats/ints"
   ]
  },
  {
   "cell_type": "code",
   "execution_count": null,
   "id": "5b6a1b70-049b-4b9c-b28f-9e7a1ec6dfc4",
   "metadata": {},
   "outputs": [],
   "source": [
    "# Reading JSON from a file\n",
    "import json\n",
    "\n",
    "# From a file\n",
    "with open(\"colors.json\") as f:\n",
    "    data = json.load(f)\n",
    "\n",
    "data"
   ]
  },
  {
   "cell_type": "code",
   "execution_count": null,
   "id": "a9c75026-21a8-4bf9-bb31-2a17c7b513f4",
   "metadata": {},
   "outputs": [],
   "source": [
    "print(json.dumps(data, indent=2)) # better to use .dumps to format JSON output"
   ]
  },
  {
   "cell_type": "code",
   "execution_count": null,
   "id": "1df8862f-5509-438e-98e3-3afbd9fb13af",
   "metadata": {},
   "outputs": [],
   "source": [
    "# Reading JSON from a string\n",
    "data = json.loads('{\"x\": 1, \"y\": 2}')\n",
    "data"
   ]
  },
  {
   "cell_type": "code",
   "execution_count": null,
   "id": "8c724444-c144-4698-b5ba-6f2d7071c844",
   "metadata": {},
   "outputs": [],
   "source": [
    "# Python dict\n",
    "data = {\n",
    "    \"name\": \"Alice\",\n",
    "    \"age\": 30,\n",
    "    \"is_active\": True,\n",
    "    \"skills\": [\"Python\", \"Data Science\", \"Machine Learning\"],\n",
    "    \"address\": {\n",
    "        \"city\": \"Wonderland\",\n",
    "        \"zip\": \"12345\"\n",
    "    }\n",
    "}"
   ]
  },
  {
   "cell_type": "code",
   "execution_count": null,
   "id": "98ad3a90-bc4c-4099-b2bb-805c31fff6fb",
   "metadata": {},
   "outputs": [],
   "source": [
    "# dump it out to a file as JSON...\n",
    "with open(\"sample.json\", \"w\") as f:\n",
    "    json.dump(data, f, indent=4)"
   ]
  },
  {
   "cell_type": "code",
   "execution_count": null,
   "id": "3887167a-6220-4702-a8f6-f0e2595aab64",
   "metadata": {},
   "outputs": [],
   "source": [
    "%cat sample.json"
   ]
  },
  {
   "cell_type": "code",
   "execution_count": null,
   "id": "151a7afe-8f48-4470-8737-0a10f615b34e",
   "metadata": {},
   "outputs": [],
   "source": [
    "with open(\"sample.json\", \"r\") as f:\n",
    "    loaded_data = json.load(f)\n",
    "\n",
    "print(json.dumps(loaded_data, indent=4))"
   ]
  },
  {
   "cell_type": "code",
   "execution_count": null,
   "id": "d8b54e31-2fa2-4657-a633-9ad109637fe6",
   "metadata": {},
   "outputs": [],
   "source": [
    "json_string = '{\"name\": \"Bob\", \"age\": 25, \"is_active\": false}'\n",
    "parsed = json.loads(json_string)\n",
    "print(json.dumps(parsed, indent=4))"
   ]
  },
  {
   "cell_type": "markdown",
   "id": "a8c62fb8-47eb-4bb6-8b32-4f5317b0b35d",
   "metadata": {},
   "source": [
    "## Working with a JSON Array (List of Records)"
   ]
  },
  {
   "cell_type": "code",
   "execution_count": null,
   "id": "8b624a46-fd21-441a-9de3-c1f44899752b",
   "metadata": {},
   "outputs": [],
   "source": [
    "users = [\n",
    "    {\"id\": 1, \"name\": \"Alice\", \"email\": \"alice@example.com\"},\n",
    "    {\"id\": 2, \"name\": \"Bob\", \"email\": \"bob@example.com\"},\n",
    "    {\"id\": 3, \"name\": \"Carol\", \"email\": \"carol@example.com\"}\n",
    "]"
   ]
  },
  {
   "cell_type": "code",
   "execution_count": null,
   "id": "2ba1c302-b5d0-4259-99bc-0424e1025bb4",
   "metadata": {},
   "outputs": [],
   "source": [
    "import json\n",
    "\n",
    "with open(\"users.json\", \"w\") as f:\n",
    "    json.dump(users, f, indent=4)"
   ]
  },
  {
   "cell_type": "code",
   "execution_count": null,
   "id": "526aceb3-9f55-493c-b01c-352dd4da29aa",
   "metadata": {},
   "outputs": [],
   "source": [
    "%cat users.json"
   ]
  },
  {
   "cell_type": "code",
   "execution_count": null,
   "id": "d27905a0-04d3-47b2-be64-59b53de0eca4",
   "metadata": {},
   "outputs": [],
   "source": [
    "with open(\"users.json\", \"r\") as f:\n",
    "    loaded_users = json.load(f)\n",
    "\n",
    "for user in loaded_users:\n",
    "    print(f\"{user['id']} - {user['name']} ({user['email']})\")"
   ]
  },
  {
   "cell_type": "markdown",
   "id": "de37c520-2f2e-4f2e-91fa-5e44550bd741",
   "metadata": {},
   "source": [
    "## Read JSON from a Remote API (e.g. Public JSON API)"
   ]
  },
  {
   "cell_type": "code",
   "execution_count": null,
   "id": "8d04c506-8ce6-4758-89b8-9ed1e166a3c5",
   "metadata": {},
   "outputs": [],
   "source": [
    "# install requests modules for communicating with APIs\n",
    "!pip3 install requests"
   ]
  },
  {
   "cell_type": "code",
   "execution_count": null,
   "id": "f3eb1fb0-9f42-43d5-8030-04de04cb5876",
   "metadata": {},
   "outputs": [],
   "source": [
    "import requests\n",
    "# if you get warnings...\n",
    "#import urllib3\n",
    "\n",
    "#urllib3.disable_warnings(urllib3.exceptions.InsecureRequestWarning) # not secure–do not use for production\n",
    "\n",
    "response = requests.get(\"https://jsonplaceholder.typicode.com/users\", verify=False) # not sure-ditto!\n",
    "users_api = response.json()\n",
    "print(json.dumps(users_api, indent=4))"
   ]
  },
  {
   "cell_type": "code",
   "execution_count": null,
   "id": "747eb024",
   "metadata": {},
   "outputs": [],
   "source": [
    "# Print just the names\n",
    "for user in users_api:\n",
    "    print(user[\"name\"])"
   ]
  },
  {
   "cell_type": "markdown",
   "id": "8b556cc8",
   "metadata": {},
   "source": [
    "## Lab: JSON\n",
    "* make a GET request to:\n",
    "https://jsonplaceholder.typicode.com/users\n",
    "* for each user, print their name and city\n",
    "  * e.g., __`Leanne Graham - Gwenborough`__"
   ]
  },
  {
   "cell_type": "code",
   "execution_count": null,
   "id": "a27f787b",
   "metadata": {},
   "outputs": [],
   "source": []
  },
  {
   "cell_type": "markdown",
   "id": "42aa00e8",
   "metadata": {},
   "source": [
    "* create a list of email addresses from the users\n",
    "* fill in the code below..."
   ]
  },
  {
   "cell_type": "code",
   "execution_count": null,
   "id": "927be3c7",
   "metadata": {},
   "outputs": [],
   "source": [
    "emails = []\n",
    "\n",
    "# Fill in the logic\n",
    "for ... in ...:\n",
    "    ...\n",
    "\n",
    "print(emails)"
   ]
  },
  {
   "cell_type": "markdown",
   "id": "fe22deca",
   "metadata": {},
   "source": [
    "* build a dict of ID -> name\n",
    "* fill in the code below..."
   ]
  },
  {
   "cell_type": "code",
   "execution_count": null,
   "id": "f893c9a0",
   "metadata": {},
   "outputs": [],
   "source": [
    "user_dict = {}\n",
    "\n",
    "# Fill in\n",
    "for user in users:\n",
    "    ...\n",
    "\n",
    "print(user_dict)\n"
   ]
  },
  {
   "cell_type": "markdown",
   "id": "604cb744",
   "metadata": {},
   "source": [
    "* list all company names\n",
    "  * e.g., __`Leanne Graham works at Romaguera-Crona`__\n"
   ]
  },
  {
   "cell_type": "markdown",
   "id": "f23ebc8b",
   "metadata": {},
   "source": []
  },
  {
   "cell_type": "markdown",
   "id": "915a6cfc",
   "metadata": {},
   "source": [
    "* create a list of all users' phone numbers\n",
    "  * hint: Use a loop and __`.append()`__ or a list comprehension"
   ]
  },
  {
   "cell_type": "markdown",
   "id": "76a49fe6",
   "metadata": {},
   "source": []
  },
  {
   "cell_type": "markdown",
   "id": "77a28a60",
   "metadata": {},
   "source": [
    "* get users from a specific city\n",
    "  * filter and print the names of users who live in __`South Christy`__"
   ]
  },
  {
   "cell_type": "code",
   "execution_count": null,
   "id": "7b268ee6",
   "metadata": {},
   "outputs": [],
   "source": []
  },
  {
   "cell_type": "markdown",
   "id": "dd82faf8",
   "metadata": {},
   "source": []
  },
  {
   "cell_type": "markdown",
   "id": "786277d4",
   "metadata": {},
   "source": [
    "* count how many users live in each city\n",
    "  * build a dict like __`{ \"Gwenborough\": 1, \"Wisokyburgh\": 2, ... }`__"
   ]
  },
  {
   "cell_type": "code",
   "execution_count": null,
   "id": "936a0dca",
   "metadata": {},
   "outputs": [],
   "source": []
  },
  {
   "cell_type": "markdown",
   "id": "11eff1a0",
   "metadata": {},
   "source": []
  }
 ],
 "metadata": {
  "kernelspec": {
   "display_name": "Python 3",
   "language": "python",
   "name": "python3"
  },
  "language_info": {
   "codemirror_mode": {
    "name": "ipython",
    "version": 3
   },
   "file_extension": ".py",
   "mimetype": "text/x-python",
   "name": "python",
   "nbconvert_exporter": "python",
   "pygments_lexer": "ipython3",
   "version": "3.13.1"
  }
 },
 "nbformat": 4,
 "nbformat_minor": 5
}
